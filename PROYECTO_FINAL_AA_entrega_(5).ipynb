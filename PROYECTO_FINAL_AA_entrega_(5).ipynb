{
  "nbformat": 4,
  "nbformat_minor": 0,
  "metadata": {
    "colab": {
      "provenance": []
    },
    "kernelspec": {
      "name": "python3",
      "display_name": "Python 3"
    },
    "language_info": {
      "name": "python"
    }
  },
  "cells": [
    {
      "cell_type": "markdown",
      "source": [
        "# **PROYECTO FINAL-AA**\n",
        "# Valor: 25 points | Fecha de entrega límite: 19 Junio | Subir a PRADO: https://pradogrado2223.ugr.es/"
      ],
      "metadata": {
        "id": "ZPIqgzEtOtfi"
      }
    },
    {
      "cell_type": "markdown",
      "source": [
        "El Proyecto final tiene como objetivo mostrar el conocimiento global adquirido a lo largo del curso. Dicho conocimiento se valorará a partir de la metodología usada y la justificación de todos los aspectos de la misma. La ausencia de una justificación adecuada en las decisiones y métodos usados impide su valoración en la nota.\n",
        "\n",
        "Este proyecto se focaliza en el ajuste y selección del mejor predictor para una BBDD (UCI o Kaggle) con el apoyo de la libreria Scikit-Learn (ver fichero de BBDDs ofertadas en PRADO). Esta librería contiene funciones de muy alto nivel que pueden ser muy útiles si se comprende bien su funcionamiento. Por tanto, las funciones que se usen de Scikit-Learn  deben de justificarse y explicar con que objetivo se usan y el significado de todos sus parámetros y funciionaluidades.  Los valores fijados por defecto en la librería no se consideran elecciones justificadas a priori. Decisiones sin justificación y resultados sin interpretación  no serán considerados válidos ni puntuados.\n",
        "\n",
        "Especial atención se deberá de poner en la calidad de la metodología. El uso de las herramientas de scikit-learn para optimizar por VC en una misma llamada todos los parámetros e hiperparámetros de un modelo no está permitido. Se ha de optimizar cada parte  de forma individual justificando cada uno de los pasos dados.\n",
        "\n",
        "**Modelos a considerar:** *Si alguno de los modelos mencionados a continuación no hubiese sido explicado en clase quedará fuera de las opciones.*\n",
        "\n",
        "**Mejor Modelo Lineal**  **(Obligatorio)**\n",
        "\n",
        "**Perceptron Multicapa**. Considerar una arquitecturas de 3  capas  y un número de unidades por capa en el rango 50-100. Considerar el número de neuronas por capa como un hiperparámetro.\n",
        "\n",
        "**Máquina de Soporte de Vectores (SVM)**: se recomienda el núcleo RBF-Gaussiano o el polinomial. Encontrar el mejor valor para los parámetros libres hasta una precisión de 2 cifras (enteras o decimales) (hacer una búsqueda dicotómica)\n",
        "\n",
        "**Boosting**: Se recomienda que para clasificación se usen funciones ``stump''. Para regresión se recomiendan los árboles como regresores simples, justificando el valor del parámetro de aprendizaje.\n",
        "\n",
        "**Random Forest**: Usar como hiperparámetros los valores que por defecto se dan en teoría y experimentar para obtener el número de árboles adecuado.\n",
        "\n",
        "**Red de Funciones de base Radial**:  Fijar el valor del número de núcleos a usar, K,  y usar el algoritmo de k-medias para estimar sus localizaciones. Evaluar  distintos valores de K como criterio para la elección del K final.\n",
        "\n",
        "**OBJETIVO**: Buscar el mejor modelo posible para la base de datos seleccionada y justificar cada uno de los  pasos dados para conseguirlo. En regresión, se recomienda usar penalización LASSO para el proceso de selección de variables. El uso de las técnicas de reducción de dimensionalidad, ej. PCA o Random Projection debe de justificarse con argumentos correctos. Todos los proyectos deben justificar los siguientes apartados:\n",
        "\n"
      ],
      "metadata": {
        "id": "25ItnYlETimt"
      }
    },
    {
      "cell_type": "markdown",
      "source": [
        "# **Guía de realización:**\n",
        "\n",
        "1.-Todos los proyectos son para **dos alumnos**. Se podrá autorizar a un solo estudiante si el número total de estudiantes es impar o el caso es extraordinario.\\\n",
        "\n",
        "2.- Se oferta una conjunto amplio de BBDD, entre las cuales debe elegirse varias en orden de interés. Se asignará por el profesor una de ellas intentando el menor solapamiento posible entre todos los proyectos. Habrá una semana para hacer la propuesta de participantes y BBDDA elegidas.\n",
        "\n",
        "2.-Una vez elegido el proyecto, se subirá a PRADO el nombre de los alumnos participantes y la propuesta de proyecto. **SOLO UNA VEZ (1 alumno)**. La aprobación por parte del profesor aparecerá en PRADO.\n",
        "\n",
        "3.-El **1 de Junio** todos los alumnos de proyecto deberán tenerlo asignado. Cambios posteriores de proyecto/BBDD solo serán aprobados si aparecen condiciones imprevistas que impiden la realización del previamenbte asignado.\n",
        "\n",
        "4.- Ambos alumnos reciben la misma nota\\\n",
        "\n",
        "5.- Scikit-Leran es la librería soporte a usar. Si se usan módulos de alto nivel de dicha librería deben de justificarse cada uno de sus argumentos. En caso contrario, sólo se valora su uso. El uso intensivo de módulos de alto nivel podría disminuir, muy notablemente, la contribución personal y la nota.\n",
        "\n",
        "6.-Todos los proyectos deben entregar el  cuaderno Colab mopdelo relleno con los resultados obtenidos.\n",
        "\n",
        "# **Puntuaciones:**\n",
        "Es obligatorio comparar hipótesis de al menos DOS modelos no-lineales y  un modelo lineal para poder optar a la puntuación máxima de 25 puntos. Las opciones son:\n",
        "\n",
        "1. Hasta 15 puntos. Aquellos proyectos que solo comparen  hipótesis de un modelo no-lineal frente a un modelo lineal.\n",
        "2. Hasta 20 puntos. Aquellos proyectos que seleccionen entre tres modelos (funciones+algoritmos. Uno lineal.\n",
        "3. Hasta 25 puntos. Aquellos proyectos que comparen hipótesis de al menos dos modelos no-lineales y un modelo lineal.\n",
        "\n",
        "BONUS.  A quienes habiendo alcanzado más de 22 puntos en la parte obligatoria, 3 puntos adicionales por cada técnica adicional incluida en la comparación y correctamente ajustada.\n",
        "\n",
        "\n",
        "# **FORMATO DE ENTREGA**:\n",
        "\n",
        "1. El cuaderno debe incluir al comienzo del mismo un **enlace** para descargar el conjunto de **datos FINAL utilizado en entrenamiento y test**. **NO SUBIR LOS DATOS A PRADO*\n",
        "2.-**El cuaderno debe ejecutarse sin errores de principio a fin**. No se valorarán aquellos proyectos con errores de ejecución.\n",
        "3.-Subir a PRADO solo el cuaderno .ipynb y posibles ficheros auxiliares (.py).\n"
      ],
      "metadata": {
        "id": "N-lGLNYUp5YK"
      }
    },
    {
      "cell_type": "markdown",
      "source": [
        "\n",
        "Puntos que se espera encontrar en el prouyecto:\n",
        "\n",
        "1.   Definición del problema a resolver y enfoque elegido para ello.\n",
        "2.   Codificación y decuaciíon de los datos de entrada para hacerlos útiles a los algoritmos.\n",
        "3. Valoración (en su caso) de la necesidad/interés de seleccionar un subconjunto de variables para el ajuste.\n",
        "4. Necesidad de la normalización de los datos e interés de la técnica usada (en su caso)\n",
        "5. Interés y justificación de la función/es de pérdida usada en el ajuste.\n",
        "6. Argumentos a favor de la idoneidad de los modelos seleccionados para la BBDD.\n",
        "7. Argumentar sobre la idoneidad de la regularización usada (en su caso) O por qué se ha elegido el modelo usad0\n",
        "8. Algoritmo de aprendizaje usado en cada modelo, especificando y justificando los valores de todos los parámetros e hiperparámetros usados.\n",
        "9. Selección de la mejor hipótesis. Justifique la técnica usada y calcule el error $E_{out}$ de dicha hipótesis.\n",
        "10. Valoración de los resultados ( gráficas, métricas de error, análisis de residuos, etc )\n",
        "11. Argumente que se ha obtenido la mejor de las posibles soluciones para la muestra dada. Argumentar en términos de los errores de ajuste y generalización.\n",
        "\n",
        "\n",
        "\n",
        "\n",
        "\n",
        "\n"
      ],
      "metadata": {
        "id": "SSD0EsJhtDfa"
      }
    },
    {
      "cell_type": "markdown",
      "source": [
        "**CRITERIOS PARA DATOS PERDIDOS:**\n",
        "\n",
        "No todos los algoritmos de aprendizaje necesitan sustituir los datos perdidos. En caso de necesitarse aplicar los siguientes:\n",
        "\n",
        "1. Cuando un item  de la muestra de datos tengan más del 10\\% de sus elemebntos perdidos puede eliminarse del conjunto de datos si no afecta al tamaño del conjunto de datos. Si es más del 20\\% debe eliminarse.\n",
        "2. Para loos datos perdidos de variables con valores reales se aplicará el siguiente criterio: reemplazar por la suma del valor medio de dicha variable más un valor aleatorio en el intervalo $[-1.5\\sigma, 1.5\\sigma]$ siendo $\\sigma$ la desviación típica de la dicha variable.\n",
        "3. Para los datos perdidos que sean de variables categóricas aplicar lo siguiente:\n",
        "    1. Calcular  la distribución de probabilidad de las categorías en la columna, se obtiene una multinomial sobre las categorias.\n",
        "    4. Calcular la distribución acumulada, sumando iterativamente la probabilidad de cada categoría. Tendreis un vector que toma valores crecientes de 0 a 1, y que además define intervalos de valores asignados a cada categoria.\n",
        "    5. Sortear un número aleatorio uniforme en [0,1]\n",
        "    6. Asignar la categoria que corresponda a ese valor dentro de [0,1].\n",
        "\n",
        "Usar el criterio de intervalos semi-abiertos por abajo, es decir, el extremo inferior de cada intervalo es un valor de dicho intervalo y el extremo superior del siguiente intervalo.\n",
        "\n"
      ],
      "metadata": {
        "id": "GIdf65qRx1cc"
      }
    },
    {
      "cell_type": "markdown",
      "source": [
        "**CRITERIOS PARA CLASES DESBALANCEADAS:**\n",
        "\n",
        "1. Si el tamaño de la clase más pequeña es suficiente para aprender con el modelo. Puede aplicar  ponderación de clases en la función de error. Otras técnicas disponibles en Scikit-Learn pueden usarse si se **justifica** su mayor idoneidad para el problema.\n",
        "2. También puede usarse un enfoque de partición del conjunto  datos de entrenamiento en múltiples conjuntos homógeneos para su uso con un clasificador basado en un ``ensemble'' de clasificadores.\n",
        "3. Si el tamaño de la clase no pemite aprender, entonces se puede eliminar la clase. En este caso se debe pedir la aprobación del profesor.\n",
        "\n",
        "El uso de resultados y enfoques existentes en la literatura sobre las bases de datos está permitido y de hecho se alienta, siempre y cuando se deja manifiestamente claro que uso se hace de dicha información/resultado y cual es la aportación del proyecto sobre la misma. En caso contrario se entenderá plagio. Incluir las referencias de la bibliografía usada.\n"
      ],
      "metadata": {
        "id": "H2LPTRAfRtZo"
      }
    },
    {
      "cell_type": "markdown",
      "source": [
        "# **NOMBRE DE LOS ALUMNOS:**\n",
        "\n",
        "1. César Alberto Mayora Suárez\n",
        "2. Lucas Martín García\n",
        "\n",
        "# **BASE DE DATOS SELECCIONADA**\n",
        "13. Devanagari Handwritten Dataset\n",
        "\n",
        "# **MODELO DE PROYECTO AL QUE OPTAN (15/20/25 puntos):**\n",
        "<strong>Modelo de 25 Puntos</strong>"
      ],
      "metadata": {
        "id": "btjruC-C0HnN"
      }
    },
    {
      "cell_type": "markdown",
      "source": [
        ">Aclaración inicial: Debido al alto coste computacional de los modelos al entrenarse con el conjutno de datos, este documento tarda entre 15 y 20 minutos en ejecutarse completamente, pero no se queda nunca ejecutando indefinidamente, y los resultados del principio aparecen a medida que se ejecutan para poder ir visualizándose mientras que se ejecuta el resto (en el caso de que se quiera volver a ejecutar el documento)."
      ],
      "metadata": {
        "id": "c4Qr3MBSS2sp"
      }
    },
    {
      "cell_type": "code",
      "source": [
        "# CODIGO DE DESCARGA y expansión de la BBDD (USAR PRIORITARIAMENTE LA CONSIGNA DE LA UGR)\n",
        "#\n",
        "\n",
        "# Link de descarga desde la consigna de la UGR: https://consigna.ugr.es/?s=download&token=443be550-94ee-48dc-9ca4-5d797aa349d7\n",
        "\n",
        "'''\n",
        "Como digerir el archivo .npz\n",
        "- Localizar el archivo localmente, desde Google Drive o bajarlo desde Internet\n",
        "- Utilizar `numpy.load` para obtener los arrays:\n",
        "```\n",
        "data = np.load(\"/path/to/data.npz\")\n",
        "```\n",
        "- Obtener los arrays mediante acceso al diccionario de `data`de la siguiente manera:\n",
        "```\n",
        "X_train, y_train = data['X_train'], data['y_train']\n",
        "X_test, y_test = data['X_test'], data['y_test']\n",
        "```\n",
        "\n",
        "NOTA: La separacion de training y test es la misma que la que viene por defecto en la\n",
        "descarga del repositorio de la UCI: https://consigna.ugr.es/?s=download&token=443be550-94ee-48dc-9ca4-5d797aa349d7\n",
        "'''\n",
        "\n",
        "# TODO: realizar la descarga de estos archivos y su respectiva separacion en training y test\n",
        "# propia si lo requiere, o sino dejarlo asi y solo descargar los archivos"
      ],
      "metadata": {
        "id": "30YOCo1e0jKW",
        "colab": {
          "base_uri": "https://localhost:8080/",
          "height": 122
        },
        "outputId": "4742ff23-6e87-45bb-ffef-f4d2eee64e30"
      },
      "execution_count": null,
      "outputs": [
        {
          "output_type": "execute_result",
          "data": {
            "text/plain": [
              "'\\nComo digerir el archivo .npz\\n- Localizar el archivo localmente, desde Google Drive o bajarlo desde Internet\\n- Utilizar `numpy.load` para obtener los arrays:\\n```\\ndata = np.load(\"/path/to/data.npz\")\\n```\\n- Obtener los arrays mediante acceso al diccionario de `data`de la siguiente manera:\\n```\\nX_train, y_train = data[\\'X_train\\'], data[\\'y_train\\']\\nX_test, y_test = data[\\'X_test\\'], data[\\'y_test\\']\\n```\\n\\nNOTA: La separacion de training y test es la misma que la que viene por defecto en la\\ndescarga del repositorio de la UCI: https://consigna.ugr.es/?s=download&token=443be550-94ee-48dc-9ca4-5d797aa349d7\\n'"
            ],
            "application/vnd.google.colaboratory.intrinsic+json": {
              "type": "string"
            }
          },
          "metadata": {},
          "execution_count": 74
        }
      ]
    },
    {
      "cell_type": "code",
      "source": [
        "import numpy as np\n",
        "import pandas as pd\n",
        "import matplotlib.pyplot as plt\n",
        "import seaborn as sns\n",
        "from PIL import Image\n",
        "from sklearn.base import clone\n",
        "from sklearn.preprocessing import OneHotEncoder, MinMaxScaler\n",
        "from sklearn.model_selection import KFold, cross_validate\n",
        "from sklearn.metrics import confusion_matrix, accuracy_score, f1_score, log_loss, hinge_loss, make_scorer\n",
        "from sklearn.linear_model import SGDClassifier\n",
        "from sklearn.svm import SVC\n",
        "from sklearn.neural_network import MLPClassifier\n",
        "from skimage import feature\n",
        "from skimage import io\n",
        "\n",
        "\n",
        "#Para acceder a nuestros ficheros de Google Drive\n",
        "from google.colab import drive\n",
        "\n",
        "drive.mount('/content/drive')\n",
        "# La carpeta datos (que contiene X_train.npy, y_train.npy, X_test.npy y y_test.npy)\n",
        "# debe estar en vuestro Drive, dentro de la carpeta 'Colab Notebooks'\n",
        "\n",
        "# Establecemos la semilla del RNG\n",
        "np.random.seed(33)\n",
        "\n",
        "# Mapeo de clases a etiquetas (SOLO PARA FUTURAS REFERENCIAS)\n",
        "map_labels = {\n",
        "\t'character_1_ka': 0,\n",
        "\t'character_2_kha': 1,\n",
        "\t'character_3_ga': 2,\n",
        "\t'character_4_gha': 3,\n",
        "\t'character_5_kna': 4,\n",
        "\t'character_6_cha': 5,\n",
        "\t'character_7_chha': 6,\n",
        "\t'character_8_ja': 7,\n",
        "\t'character_9_jha': 8,\n",
        "\t'character_10_yna': 9,\n",
        "\t'character_11_taamatar': 10,\n",
        "\t'character_12_thaa': 11,\n",
        "\t'character_13_daa': 12,\n",
        "\t'character_14_dhaa': 13,\n",
        "\t'character_15_adna': 14,\n",
        "\t'character_16_tabala': 15,\n",
        "\t'character_17_tha': 16,\n",
        "\t'character_18_da': 17,\n",
        "\t'character_19_dha': 18,\n",
        "\t'character_20_na': 19,\n",
        "\t'character_21_pa': 20,\n",
        "\t'character_22_pha': 21,\n",
        "\t'character_23_ba': 22,\n",
        "\t'character_24_bha': 23,\n",
        "\t'character_25_ma': 24,\n",
        "\t'character_26_yaw': 25,\n",
        "\t'character_27_ra': 26,\n",
        "\t'character_28_la': 27,\n",
        "\t'character_29_waw': 28,\n",
        "\t'character_30_motosaw': 29,\n",
        "\t'character_31_petchiryakha': 30,\n",
        "\t'character_32_patalosaw': 31,\n",
        "\t'character_33_ha': 32,\n",
        "\t'character_34_chhya': 33,\n",
        "\t'character_35_tra': 34,\n",
        "\t'character_36_gya': 35,\n",
        "    'digit_0': 36,\n",
        "    'digit_1': 37,\n",
        "    'digit_2': 38,\n",
        "    'digit_3': 39,\n",
        "    'digit_4': 40,\n",
        "    'digit_5': 41,\n",
        "    'digit_6': 42,\n",
        "    'digit_7': 43,\n",
        "    'digit_8': 44,\n",
        "    'digit_9': 45,\n",
        "}"
      ],
      "metadata": {
        "colab": {
          "base_uri": "https://localhost:8080/"
        },
        "outputId": "4f38c7d2-015e-4764-ebda-0e8fca2274f4",
        "id": "zgah6msrH3wl"
      },
      "execution_count": null,
      "outputs": [
        {
          "output_type": "stream",
          "name": "stdout",
          "text": [
            "Drive already mounted at /content/drive; to attempt to forcibly remount, call drive.mount(\"/content/drive\", force_remount=True).\n"
          ]
        }
      ]
    },
    {
      "cell_type": "markdown",
      "source": [
        "# **COMIENZO DEL PROYECTO**"
      ],
      "metadata": {
        "id": "0I-pM_F_1i29"
      }
    },
    {
      "cell_type": "markdown",
      "source": [
        "## Descripción y planteamiento del problema\n",
        "\n",
        "Planteamos un problema de clasificación donde se desea construir un sistema de clasificación de caracteres manuscritos del sistema de escritura _**Devanagari**_ o _Devanāgarī_ (ver Figura 1), formalmente descrito como un _Abugida_ o pseudo-alfabeto que consta de $46$ caracteres (en nuestro caso) y es el sistema oficial de escritura en países como la India y Nepal.\n",
        "\n",
        "Nuestro objetivo es poder diseñar y entrenar un modelo de Machine Learning que mejor reconozca o clasifique estos caracteres manuscritos de forma individual (clasificar un caracter dado).\n",
        "\n",
        "![devanagari_1](http://luc.devroye.org/DevanagariAlphabet-1933.png)\n",
        "\n",
        "_[Figura 1](http://luc.devroye.org/DevanagariAlphabet-1933.png): Ejemplo de caracteres del sistema Devanagari_\n",
        "\n",
        "### Datos disponibles\n",
        "\n",
        "Contamos con un conjunto de datos o _dataset_ de dominio público y que podemos encontrar en el repositorio de la UCI (*). Este _dataset_ cuenta con una serie de imágenes en formato PNG etiquetadas con una resolución de $32 \\times 32$ píxeles en escala de grises, es decir, cada píxel de una imágen tendrá un valor entre $[0,255]$, donde $0$ indica un color negro mientras que $255$ indica un color blanco.\n",
        "\n",
        "Disponemos de un total de $92000$ imágenes o ejemplos en nuestro conjunto de datos y de $46$ clases con $2000$ ejemplos cada una. El _dataset_ viene dividido por defecto en dos conjuntos de datos: uno de training y uno de test con un $85\\%$ y un $15\\%$ de los ejemplos totales respectivamente.\n",
        "\n",
        "### Objetivo propuesto\n",
        "\n",
        "Nuestro objetivo es poder diseñar y entrenar un modelo de Machine Learning a partir de nuestros datos disponibles usando un conjunto de entrenamiento (training) para el aprendizaje y selección del mejor modelo de clasificación y un conjunto de test para la evaluación del modelo final. Buscamos obtener el mejor modelo de clasificación que maximice la precisión (_accuracy_) en la clasificación de estas imágenes.\n",
        "\n",
        "Para ello, consideraremos un modelo lineal y dos modelos no lineales, y mediante una proceso de selección de modelos o _model selection_, compararemos y elegiremos el mejor modelo de clasificación para nuestro problema, evaluándo su rendimiento final con el conjunto de test.\n",
        "\n",
        "### Descripción formal del problema\n",
        "\n",
        "Describimos formalmente nuestro problema identificando sus principales componentes. En primer lugar, disponemos de un conjunto de datos (o secuencia de datos) $\\mathcal D$ que está compuesta por una secuencia de ejemplos de la forma $(\\text{x}_1, y_1), ..., (\\text{x}_N, y_N)$, donde $\\text{x}_n$ es un vector de características que definen a un caracter (imágen) concreto, e $y_n$ representa el respectivo nombre del caracter (etiqueta).\n",
        "\n",
        "Definimos el espacio de entrada como $\\mathcal X = ℝ^d$ como un espacio $d$-dimensional de valores reales, en nuestro caso, cada píxel de entrada de una imágen está definido por números enteros en $ℕ$ pero nos conviene usar valores reales en este caso ya que probablemente estos valores pueden ser modificados o transformados y necesitamos que el espacio de entrada extrapole a un espacio real; en todo caso como $ℕ ⊂ ℝ$, nos es válido.\n",
        "\n",
        "Definimos el espacio de salida $\\mathcal Y = \\{0, 1, ..., 45\\}$ donde cada etiqueta $y_i \\in \\mathcal Y$ representa una clase de nuestro problema $C_{i}$. Cada clase corresponde al nombre de cada caracter de nuestro conjunto de datos:\n",
        "$$C_0 = \\textit{\"ka\"}, C_1 = \\textit{\"kha\"}, C_2=\\textit{\"ga\"}, ...$$\n",
        "\n",
        "Definimos nuestra función objetivo $f: \\mathcal X → \\mathcal Y$ que es la función que perfecta y exactamente clasifica los ejemplos de la población y consecuentemente de nuestro conjunto de datos $\\mathcal D$ asignando a cada ejemplo $\\text{x}_n \\in \\mathcal X$ un valor en $y_n \\in \\mathcal Y$. Esta función es y será desconocida para nosotros y es la que intentaremos mediante el ajuste de un modelo de aprendizaje aproximar para clasificar lo mejor posible y con el mínimo error los datos de entrada.\n",
        "\n",
        "> (*) Acharya,Shailesh and Gyawali,Prashnna. (2016). Devanagari Handwritten Character Dataset. UCI Machine Learning Repository. https://doi.org/10.24432/C5XS53."
      ],
      "metadata": {
        "id": "_EL7_2SeUaVJ"
      }
    },
    {
      "cell_type": "markdown",
      "source": [
        "## Definición de los conjuntos de hipótesis y modelos de aprendizaje usados\n",
        "\n",
        "#### Clase de funciones $\\mathcal H$-lineal -  Modelo lineal\n",
        "Definimos entonces el conjunto de hipótesis que consideraremos en la construcción de nuestros modelos de aprendizaje. En primer lugar consideraremos un conjunto de hipótesis $\\mathcal H$ lineal; para este problema de clasificación tomaremos la clase de funciones lineales más simple que consiste en una combinación lineal de los datos de entrada $\\text{x}$ ponderados con un vector de pesos $\\text{w} \\in ℝ^{d+1}$, por tanto nuestras funciones hipótesis tendrán la forma\n",
        "\n",
        "$$h(\\text{x}) = w_0 + \\sum_{j=1}^{d}{w_j x_j}$$\n",
        "\n",
        "donde $w_0$ es el parámetro denominado _bias_, y que nos permite fijar una base en el modelo que puede influir en la aproximación a la función objetivo mediante el algoritmo de aprendizaje $\\mathcal A$.\n",
        "\n",
        "Para tener una notación más conveniente a lo largo de la solución a este problema, podemos fijar un parámetro en los datos de entrada $\\text{x}$ para que multiplique a este _bias_, quedándonos de esta forma matricial más conveniente:\n",
        "\n",
        "$$h(\\text{x}) = \\sum_{j=0}^{d}{w_j\\phi_j(\\text{x})} = \\text{w}^T\\phi(\\text{x})$$\n",
        "\n",
        "donde $\\phi$ es una denominada _basis function_, que es una función que transforma los datos de entrada $\\text{x}$; la razón por la cual es una conveniencia usar una _basis function_ es porque los datos de entrada durante el procesamiento de los datos sufren transformaciones, preprocesamiento previo o extracción de características (_feature extraction_), siendo luego estos datos preprocesados de los datos originales los que se usarán para la predicción y el aprendizaje del modelo; por tanto, todas las posibles transformaciones podemos expresarlas en términos de _basis functions_ $\\{\\phi_j(\\text{x})\\}$.\n",
        "\n",
        "Nosotros también cambiaremos la notación de la combinación lineal $h(\\text{x})$ a $s(\\text{x})$ tratándola como una \"señal\" más que un predictor. Esto es porque los modelos que hacen uso de esta clase de hipótesis usan una función de predicción diferente que hace uso de esta señal. Sin embargo, hay que tener en cuenta que la clase de funciones de donde queremos obtener el mejor predictor $g$ es uno del tipo $g(\\text{x}) = \\text{w}^T\\phi$, como antes habiamos mencionado, y es en esencia el modelo final de clasificación.\n",
        "\n",
        "Con esta primera clase de funciones lineales podemos definir lo que será nuestro modelo lineal de clasificación, en nuestro caso hemos elegido el modelo de __Regresión Logística__ o RL que consiste en el aprendizaje de los pesos óptimos $\\text{w}$ para calcular la __probabilidad__ de que un ejemplo pertenezca a una clase u otra, es decir, calcula un número en el rango $[0,1]$ que indica esta probabilidad. El clasificador RL se define de la siguiente manera:\n",
        "\n",
        "$$h(\\text{x}_i) = \\theta(s(\\text{x})) = \\theta(\\text{w}^T\\phi(\\text{x}_i))$$\n",
        "\n",
        "donde $\\theta$ es la denominada función logística (_logistic function_) que es una función no lineal aplicada a la combinación lineal de pesos y que asigna una probabilidad entre $[0,1]$. La función logística que usaremos será la función _sigmoide_ por ser una función ampliamente utilizada, es una función derivable y es una función que está acotada para sus valores extremos por lo que es facilmente interpretable en términos probabilísticos.\n",
        "\n",
        "$$\\sigma(s(\\text{x}_n)) = \\frac{1}{1 - e^{-s(\\text{x}_n)}} \\rightarrow\n",
        "\\begin{cases}\n",
        "\\ge 0.5 & y_n = +1 \\\\\n",
        "\\lt 0.5 & y_n = -1\n",
        "\\end{cases}$$\n",
        "\n",
        "Nosotros elegimos RL como primer modelo ya que en general es bastante utilizado en problemas de clasificación y es conocido por ser uno de los mejores modelos de clasificación gracias a su fundamento probabilístico y por ser insensible al ruido, lo cual lo hace un buen clasificador cuando hay mucha presencia de ruido estocástico.\n",
        "\n",
        "#### Modelos no lineales\n",
        "\n",
        "A continuación definiremos dos modelos de clasificación no lineales. Estos modelos se consideran no lineales por ser capaces de capturar características o aspectos no lineales en los datos siendo modelos muy poderosos cuando hay mucha presencia de mucho ruido determinístico o cuando el dominio del problema es muy complejo; nosotros hemos elegido dos de ellos: __SVM-soft__ con kernel no lineal y __Perceptrón Multicapa__.\n",
        "\n",
        "El primero de ellos, el modelo SVM-soft con kernel no lineal es un modelo que consiste en la optimización de pesos $\\text{w}$ de nuestro modelo para conseguir el hiperplano óptimo que separe los ejemplos con el mayor márgen posible (_fat margin_). La función de clasificación del SVM se define muy similar a otros modelos como el Perceptrón que usan la función no lineal escalonada:\n",
        "\n",
        "$$h(s(\\text{x}_i)) = \\text{sign}(s(\\text{x}_i))$$\n",
        "\n",
        "Como podemos ver, usa la función no lineal escalonada, que se interpreta como el \"signo\" de la señal:\n",
        "$$h(s(\\text{x}_i)) =\n",
        "\\begin{cases}\n",
        "s(\\text{x}_i) < 0 & y_n = -1 \\\\\n",
        "s(\\text{x}_i) > 0 & y_n = +1\n",
        "\\end{cases}\n",
        "$$\n",
        "\n",
        "Nosotros usamos la formalización _soft_ que quiere decir _soft margin_, que consiste en establecer una restricción $C$ correspondiente a la tolerancia de error de clasificación (ejemplos mal clasificados) que puede permitir el modelo. Por tanto, este modelo tratará de optimizar el siguiente problema, llamado el problema Primal:\n",
        "\n",
        "$$\\min_{b, \\text{w}, \\xi}{\\frac{1}{2} \\text{w}^T\\text{w} + C\\sum_{i=0}^{N}{\\xi_i}} \\\\\n",
        "\\text{subject to:} \\ \\ y_n(\\text{w}^T\\text{x}_n + b) \\ge 1 - \\xi_n\n",
        "$$\n",
        "\n",
        "donde $b$ es el _bias_ y $\\xi$ es el número de ejemplos mal clasificados. El modelo SVM-soft es un clasificador muy reconocido por ser un modelo que optimiza el mismo hiperplano para ser el mejor cuando generaliza fuera de la muestra ya que la maximización del márgen (_fat margin_) lleva implícita regularización, disminuyendo la dimensión VC del modelo, por lo que lo hace especialmente bueno cuando se enfrenta a datos que no ha visto antes.\n",
        "\n",
        "Este modelo aunque use una clase de funciones lineal ($h(\\text{x}) = \\text{w}^T\\phi(\\text{x}))$), se considera un modelo no lineal al hacer uso de un kernel no lineal, puesto que estos kernels mapean los datos de entrada en $\\mathcal X$ a un espacio de mayor dimensión $\\mathcal Z$ donde puede encontrar el separador óptimo cuando los datos no son linealmente separables. En nuestro caso, usaremos el kernel __RBF-Gaussiano_, un kernel no lineal.\n",
        "\n",
        "El último modelo que vamos a utilizar es un Perceptrón Multicapa (_Multilayer Perceptron_ o MLP) que es un tipo de Red Neuronal Artificial (ANN) que consiste en la combinación de múltiples modelos de Perceptrón organizadas en múltiples capas de neuronas completamente conectadas. Aunque el nombre haga referencia a usar modelos de Perceptrón, realmente puede comprender modelos lineales mucho más potentes como la Regresión Logística (RL), que involucra una función de activación no lineal $θ$. Nosotros usaremos este enfoque de MLP como un compendio de múltiples modelos de Regresión Logística organizados en una arquitectura de neuronas interconectadas.\n",
        "\n",
        "MLP esta basado en una Red Neuronal de tipo _feed-forward_, en el que los datos de entrada entran por una capa de entrada y fluye sobre las capas sucesivas ocultas hasta una capa de salida.\n",
        "\n",
        "El uso de diferentes neuronas interconectadas, en el que cada neurona es un modelo de Regresión Logística, es lo que hace que este modelo sea no lineal, ya que podemos usar múltiples modelos RL para combinar sus datos de salida y así poder aumentar la capacidad de clasificación y poder capturar un patrón subyaciente más complejo.\n",
        "\n",
        "La función de predicción $h(\\text{x})$ del MLP está definida por el algoritmo de propagación hacia adelante (_forward propagation_):\n",
        "\n",
        "$$s^{(l)}_j = (\\text{W}^{(l)})^T \\text{x}^{(l-1)}$$\n",
        "\n",
        "donde $\\text{W}^{(l)}$ son todos los pesos en la capa $l$ y $\\text{x}^{(l)}$ es la salida dada por la capa $\\theta(s^{(l)})$\n",
        "\n",
        "Luego, la función de predicción viene dada por aplicar el algoritmo de _forward propagation_ en la última capa $L$\n",
        "\n",
        "$$h(\\text{x}) = \\theta(s^{(L)}) = \\theta((\\text{W}^{(L)})^T \\text{x}^{(L-1)})$$\n",
        "\n",
        "Ahora necesitamos definir la arquitectura de nuestra red que sería lo equivalente a fija una clase de funciones $\\mathcal H_{nn}$. Nosotros usaremos una arquitectura de $L=3$ capas, es decir, una capa de entrada (_input layer_), $2$ capas ocultas (_hidden layer_) y una capa de salida (_output layer_). Cada capa $l$ tiene una dimensión $d(l)$, que quiere decir que en la capa $l$ hay $d(l)+1$ neuronas etiquetadas como $0,1,2,...,d(l)$ (la neurona $0$ es la neurona _bias_o sesgo). Para que nuestra arquitectura esté bien definida debemos de asignar la dimensión a cada capa $l$ de nuestra red, sin embargo, este parámetro puede influir en gran medida, pues a mayor dimensión por capa, estamos aumentando la complejidad de $\\mathcal H_{nn}$ lo que puede resultar en sobreajuste, por tanto, nos sería conveniente tratar $d(l)$ para cada capa $l$ como un hiperparámetro del modelo. Como tenemos aún así que definir $\\mathcal H_{nn}$ podemos establecer un rango de valores para esta dimensión como un rango que varía entre $50$ y $100$, de esta manera definimos un conjunto de hipótesis aproximado.\n",
        "\n",
        "También tenemos que definir, luego de establecer la arquitectura de la red, las funciones de activación $\\theta$ de cada neurona, que son las que definen las _basis functions_ de cada neurona, como MLP aprende estas los parámetros de estas funciones (que son los pesos y el _bias_), tendremos que prefijar estas funciones de activación antes de entrenar nuestro modelo. Nosotros optaremos por la función ReLU (Rectified Linear Unit) $f(\\text{x}) = θ(\\text{w}^T\\phi(\\text{x})) = ReLU(\\text{w}^T\\phi(\\text{x}))$ para cada neurona. Elegimos esta función porque tiene una ventaja a nivel de eficiencia computacional por no usar cálculos exponenciales como en el caso de la sigmoide, y porque activa las neuronas cuyo valor es positivo, por lo que promueve la dispersión de las características en la red y capturar mejor las relaciones no lineales al solo tomar en cuenta las neuronas relevantes, a diferencia de las funciones sigmoide y tangente hiperbólica que toma en cuenta valores negativos que realmente solo dan redundancia en la red."
      ],
      "metadata": {
        "id": "BPBLEnFDl_KL"
      }
    },
    {
      "cell_type": "markdown",
      "source": [
        "## Función de perdida y métricas de error\n",
        "\n",
        "#### Métricas de error\n",
        "A continuación vamos a definir cuales son las métricas de error a usar en este problema de clasificación así como decir para cada una que información nos aporta.\n",
        "\n",
        "Las métricas que usaremos son por una parte, sacadas de la matriz de confusión, y otras, son específicas para problemas de clasificación multietiqueta. La matriz de confusión es una herramienta muy usada en Machine Learning para evaluar el rendimiento de un modelo de ML. Se suele usar mayoritariamente en problemas de clasificación y tiene una estructura tabular y que compara la frecuencia de clases predichas por el modelo y su valor real.\n",
        "\n",
        "![](https://dataaspirant.com/3_confusion_matrix/)\n",
        "_Figura tomada de https://dataaspirant.com/wp-content/uploads/2020/08/3_confusion_matrix.png_\n",
        "\n",
        "A partir de la matriz de confusión se pueden calcular métricas para evaluar un modelo de clasificación. Entre ellas se encuentran las que usaremos que son:\n",
        "\n",
        "- _Accuracy_ o exactitud: nos permite medir su tasa de clasificación correcta, es decir, la fracción de ejemplos que ha clasificado correctamente (independientemente de su clase). Se calcula como:\n",
        "$$\\frac{TP + TN}{TP + TN + FP + FN}$$\n",
        "- _Specificity_ o especificidad: Mide la fracción de las muestras que han sido clasificadas como negativas y que realmente fueron negativas, es decir, nos da una métrica para medir que tan bien clasifica la clase negativa. Se calcula como:\n",
        "$$\\frac{TN}{TN + FP}$$\n",
        "- F1-Score: Esta métrica combina dos métricas denominadas _Recall_ y _Precision_ en un valor único, y es especialmente útil cuando queremos encontrar un equilibrio entre los falsos positivos y falsos negativos. Se calcula como:\n",
        "$$\\frac{2\\cdot (\\text{Precision}\\cdot \\text{Recall})}{(\\text{Precision}+ \\text{Recall})}$$\n",
        "\n",
        "Como podemos observar, estamos eligiendo las métricas que nos pueden dar una mejor percepción global del rendimiento de un modelo. Si observamos por un lado la _Accuracy_ no engloba la tasa de clasificación correcta de nuestro modelo, es decir, que tanto nuestro modelo acierta en proporción, esta métrica se considera de las más importantes porque es la que más engloba el rendimiento de un clasificador sin importar la clase que esta prediciendo. Sin embargo, es por esta generalidad de la _Accuracy_ que por sí sola no podemos utilizar para evaluar un modelo frente a otros, sobre todo cuando hay clases desbalanceadas, ya que podemos construir un clasificador con _Accuracy_ de un $80\\%$ pero en un conjunto de datos que tiene un $80\\%$ de desbalanceo, luego un clasificador que prediga con la media, consigue la misma _accuracy_.\n",
        "\n",
        "Para abordar el problema de usar solo la _accuracy_ tenemos que evaluar el rendimiento del clasificador tanto con la clase negativa como la positiva. En este caso utilizamos por un lado F1-Score que especialmente útil en estos casos de desbalanceo de etiquetas, ya que se considera un métrica muy robusta que balancea el peso de la clase menos representada realizando la media armónica del _Recall_ y de la _Precision_. Sin embargo, el _Recall_ y la _Precision_ solo tienen en cuenta la clase positiva y ahí es donde entra la última métrica, la _Specificity_ que mide que tan bien clasifica la clase negativa, completando el cálculo del rendimiento de un modelo.\n",
        "\n",
        "Con estas métricas seremos capaces de elegir de forma sensata y con bastante criterio aquel modelo que mejor clasifica una muestra de datos. He de decir, que cada métrica puede ser ponderada de manera que le demos más importancia a una que de otra, esto por supuesto depende del problema concreto a tratar y que estudiaremos más a detalle cuando definamos el _scorer_ que usaremos para realizar el _ranking_ que nos elegirá el mejor modelo.\n",
        "\n",
        "#### Funciones de perdida\n",
        "\n",
        "Nos queda por definir las funciones de perdida para nuestros modelos de clasificación. Empezaremos por la función de perdida para Regresión Logística que será la función de Entropía Cruzada o _cross entropy_ definida por:\n",
        "\n",
        "$$E(\\text{w}) = \\frac{1}{N}\\sum_{n=0}^{N}{\\ln{(1 - e^{-y_n\\text{w}^T\\text{x}_n})}}$$\n",
        "\n",
        "Esta función, también denominada como función de perdida logística, es ampliamente usada por estar basada en la probabilidad de semejanza o _likelihood_ de un ejemplo según la distribución de probabilidad que se captura de la muestra. Definida la función de perdida para Regresión Logística definimos el algoritmo de aprendizaje $\\mathcal A$ que emplearemos para aprender los pesos que minimizan esta función de perdida, usaremos en nuestro caso el algoritmo de _Stochastic Gradient Descent_ o Descenso del Gradiente Estocástico. La elección de este algoritmo viene dado a que es un algoritmo que tiene un buen rendimiento con datasets de gran tamaño, ya que es un algoritmo muy rápido al usar un tamaño de muestra de $1$ ejemplo por cada iteración, además, es un algoritmo muy flexible que da mucho juego en cuanto a parametrización y parametros de regularización (L1, L2, $\\eta$, tamaño de minibatch, etc).\n",
        "\n",
        "La función de perdida que usaremos para el modelo de SVM-soft será la función de perdida de bisagra o _hinge loss_ modificada para la formulación _soft_ de SVM, que es una función que penaliza los errores en clasificación permitiendo un cierto márgen de error y que se define como:\n",
        "\n",
        "$$E(\\text{w}) = \\max{(0, 1-y_n\\text{w}^T\\text{x}_n)} + C\\sum_{n=0}^{N}{\\xi_n}$$\n",
        "\n",
        "donde $C$ es un parámetro de penalización de los errores $\\xi_n$ cometidos por el márgen. La elección de esta función de perdida, además de por ser la más usada para el entrenamiento de clasificadores SVM, es porque es una función que conduce a una mejor presición ya que penaliza los errores de clasificación como hemos dicho y por tanto es ideal por si queremos un clasificador donde podamos controlar márgenes de error de una forma más restrictiva. Definida la función de perdida en SVM, ahora definiremos el algoritmo de aprendizaje $\\mathcal A$ para aprender los pesos que minimizan la función de perdida, la cual será un algoritmo de programación cuadrática que optimiza multiplicadores de Lagrange que definen los vectores soporte que definen el márgen final.\n",
        "\n",
        "En cuanto al modelo MLP, la función de perdida es la media de los errores cometidos por las neuronas:\n",
        "\n",
        "$$E(\\text{w}) = \\frac{1}{N}\\sum_{n=1}^{N}{\\text{e}_n}$$\n",
        "\n",
        "El error de cada neurona depende de la arquitectura de nuestra red, en nuestro caso cada neurona corresponde a un modelo de RL, que sabemos que calcula un valor probabilístico que corresponde a la máxima _semejanza_ o _likelihood_ de que un ejemplo pertenzca a una clase u otra. En efecto estamos tratando de aprender la distribución de probabilidad de la muestra, concretamente dado un conjunto de datos de entrada $\\text{X} = \\{\\text{x}_1, ..., \\text{x}_N\\}$ y sus clases $\\text{y} = \\{y_1, ..., y_N\\}$ la función de _likelihood_ de la muestra es:\n",
        "\n",
        "$$ℙ(\\text{y} | \\text{X}, \\text{w}) = ∏_{n=1}^{N}{ℙ(y_n | \\text{x}_n, \\text{w})}$$\n",
        "\n",
        "A partir de esto, podemos obtener los valores de $\\text{w}$ que maximicen el _likelihood_, para obtener una función de perdida que minimizar, podemos considerar la minimización de la función de suma de cuadrados medio que es equivalente a maximizar el _likelihood_, de esta manera obtenemos la función de perdida para cada neurona se define como\n",
        "$$\\text{e}(h_{RL}, y) = \\frac{1}{N}\\sum_{n=1}^{N}{(y_n - h_{RL}(\\text{w}, \\text{x}))^2}$$\n",
        "\n",
        "siendo $h_{RL}$ la función de predicción del modelo de Regresión Logística que tiene el mismo diseño que el especificado en nuestro modelo lineal de Regresión Logística de nuestro conjunto de modelos para el problema (esta vez usando la función de activación $ReLU(s)$ en vez de la sigmoide).\n",
        "\n",
        "> (1) Bishop, Christopher M. Pattern Recognition and Machine Learning. New York :Springer, 2006\n"
      ],
      "metadata": {
        "id": "ckHhJFjwpFl0"
      }
    },
    {
      "cell_type": "markdown",
      "source": [
        "## Obtención de los datos\n",
        "\n",
        "Antes de poder empezar a realizar el preprocesamiento de los datos y el aprendizaje de nuestros modelo, primero debemos de obtenerlos."
      ],
      "metadata": {
        "id": "49EYQT7-7gpM"
      }
    },
    {
      "cell_type": "markdown",
      "source": [
        "Los datos originalmente se estructuran como una matriz 32x32 de valores numéricos para cada muestra, que representan todos los píxeles de la imagen."
      ],
      "metadata": {
        "id": "YhOeSjheIBRQ"
      }
    },
    {
      "cell_type": "code",
      "source": [
        "data = np.load(\"drive/MyDrive/Colab Notebooks/dataset.npz\")\n",
        "X_train_original, Y_train_original = data['X_train'], data['y_train']\n",
        "X_test_original, Y_test_original = data['X_test'], data['y_test']\n",
        "print(\"Forma de vector X de entrenamiento de muestras:\",X_train_original.shape)\n",
        "print(\"Forma de vector Y de entrenamiento de muestras:\",Y_train_original.shape)\n",
        "print(\"Forma de vector X de test de muestras:\",X_test_original.shape)\n",
        "print(\"Forma de vector Y de test de muestras:\",Y_test_original.shape)"
      ],
      "metadata": {
        "colab": {
          "base_uri": "https://localhost:8080/"
        },
        "outputId": "80f85b2c-311d-4536-912d-3fef77fcfa81",
        "id": "KC8RHqNrH3wm"
      },
      "execution_count": null,
      "outputs": [
        {
          "output_type": "stream",
          "name": "stdout",
          "text": [
            "Forma de vector X de entrenamiento de muestras: (78200, 32, 32)\n",
            "Forma de vector Y de entrenamiento de muestras: (78200,)\n",
            "Forma de vector X de test de muestras: (13800, 32, 32)\n",
            "Forma de vector Y de test de muestras: (13800,)\n"
          ]
        }
      ]
    },
    {
      "cell_type": "markdown",
      "source": [
        "Inicialmente la base de datos se separa en un conjunto para entrenamiento (train) y otro para test, entonces vamos a unir todo el conjunto de datos para poder hacer nuestra propia separación en train y test valorando el porcentaje que queremos que tenga cada parte."
      ],
      "metadata": {
        "id": "w0iKHRNXJFpd"
      }
    },
    {
      "cell_type": "code",
      "source": [
        "X_original = np.row_stack((X_train_original,X_test_original))\n",
        "Y_original = np.concatenate((Y_train_original,Y_test_original))\n",
        "print(\"Forma de vector X del conjunto total de muestras:\",X_original.shape)\n",
        "print(\"Forma de vector Y del conjunto total de etiquetas:\",Y_original.shape)"
      ],
      "metadata": {
        "colab": {
          "base_uri": "https://localhost:8080/"
        },
        "id": "2mDwEjVBJae7",
        "outputId": "52a832dc-4e96-4772-93e3-d73e99d47797"
      },
      "execution_count": null,
      "outputs": [
        {
          "output_type": "stream",
          "name": "stdout",
          "text": [
            "Forma de vector X del conjunto total de muestras: (92000, 32, 32)\n",
            "Forma de vector Y del conjunto total de etiquetas: (92000,)\n"
          ]
        }
      ]
    },
    {
      "cell_type": "markdown",
      "source": [
        "Vamos a transformar la forma de los datos de cada muestra de matriz 32x32 a un único vector con todos los píxeles de la muestra."
      ],
      "metadata": {
        "id": "MoOHoWuuIdLD"
      }
    },
    {
      "cell_type": "code",
      "source": [
        "X_total = X_original.reshape(len(X_original), -1)\n",
        "Y_total = Y_original.copy()\n",
        "print(\"Forma de vector X del conjunto total de muestras:\",X_total.shape)\n",
        "print(\"Forma de vector Y del conjunto total de etiquetas:\",Y_total.shape)"
      ],
      "metadata": {
        "colab": {
          "base_uri": "https://localhost:8080/"
        },
        "id": "Dt3S7iVdIn4Y",
        "outputId": "574c3a26-e044-40b7-aaae-3c5ded0771d1"
      },
      "execution_count": null,
      "outputs": [
        {
          "output_type": "stream",
          "name": "stdout",
          "text": [
            "Forma de vector X del conjunto total de muestras: (92000, 1024)\n",
            "Forma de vector Y del conjunto total de etiquetas: (92000,)\n"
          ]
        }
      ]
    },
    {
      "cell_type": "markdown",
      "source": [
        "Vamos a modificar el vector de etiquetas ya que inicialmente cada etiqueta se representa como un número\n",
        "$y_i \\in \\{0, 1, ..., 45\\}$, y por tanto vamos a transformar estas etiquetas al espacio de salida $\\mathcal Y$ donde cada etiqueta $y_i \\in \\mathcal Y$ identifica una clase de nuestro problema $C_{i}$ y es representado por un vecotor de 46 valores binarios donde todos los valores del vector toman el valor 0 excepto el valor en la posición $i$ que toma el valor 1 representando que la etiqueta es la clase $ i \\in \\{0,1,2,3...45\\}$.\n",
        "\n",
        "Para ello aplicamos One-Hot encoding a las etiquetas empleando la clase OneHotEncoder utilizando los siguiente parámetros para crear el objeto codificado:\n",
        "*   categories: se especifica la lista categ que contiene las categorías de cada variable.\n",
        "*   sparse_output=False: se establece en False para obtener una matriz densa en lugar de una matriz dispersa, para obtener una matriz con las columnas de cada nueva variable unificadas para añadirlas directamente al conjunto de datos.\n",
        "*   drop=None: se establece en None para mantener todas las categorías en cada variable.\n",
        "Después se utiliza el método fit_transform del objeto codificador para realizar la codificación One-Hot de las variables categóricas elegidas.\n"
      ],
      "metadata": {
        "id": "FbEtaUL9XWJ-"
      }
    },
    {
      "cell_type": "markdown",
      "source": [
        "En algunos modelos implementados de la libreria `sklearn`, la clase implementa la codificación de las etiquetas internamente como un paso mas del proceso de ajuste del modelo, por lo tanto vamos a guardar el vector de etiquetas como estaba originalmente también para estos casos."
      ],
      "metadata": {
        "id": "CJi040GXfmpy"
      }
    },
    {
      "cell_type": "code",
      "source": [
        "# Etiquetas del 0 al 45 incluido\n",
        "categorias =  [np.arange(46)]\n",
        "\n",
        "# Reshape del vector de etiquetas a una matriz columna para aplicar el codificador al vector\n",
        "Y_total_reshaped = Y_total.reshape(-1, 1)\n",
        "\n",
        "#Funcion para codificar\n",
        "encoder = OneHotEncoder(\n",
        "     categories=categorias,  # Categorías de cada variable\n",
        "     sparse_output=False,  # crea una matriz sparse cuando se pone TRUE\n",
        "     drop  = None  #  No quitar categorías en cada variable\n",
        "     )\n",
        "\n",
        "Y_total_OneHot = encoder.fit_transform(Y_total_reshaped) # Aplicar One Hot Encoding al conjunto total\n",
        "print(\"Forma de vector Y del conjunto total de etiquetas:\",Y_total.shape)"
      ],
      "metadata": {
        "colab": {
          "base_uri": "https://localhost:8080/"
        },
        "id": "46kvuhLWRHTp",
        "outputId": "2ca736f0-400c-4205-ae06-ad7858f6ffc4"
      },
      "execution_count": null,
      "outputs": [
        {
          "output_type": "stream",
          "name": "stdout",
          "text": [
            "Forma de vector Y del conjunto total de etiquetas: (92000,)\n"
          ]
        }
      ]
    },
    {
      "cell_type": "markdown",
      "source": [
        "Ahora cada etiqueta se representa como un vector de 46 valores binarios."
      ],
      "metadata": {
        "id": "-vYrweOgZVrQ"
      }
    },
    {
      "cell_type": "markdown",
      "source": [
        "Hemos aplicado esta transformación ya que utilizar valores enteros de 0 a 45 para representar las etiquetas puede causar problemas, ya que los algoritmos pueden interpretar que hay un orden o relación numérica entre las etiquetas. El One Hot Encoding proporciona una representación binaria explícita que evita asociar relaciones entre las clases."
      ],
      "metadata": {
        "id": "klxXMQJRZo3W"
      }
    },
    {
      "cell_type": "markdown",
      "source": [
        "Después de obtener el conjunto total de datos separamos los datos en un conjunto de entrenamiento y otro de test. Realizamos esto lo primero para evitar observar los datos de test y realizar \"Data Snooping\" donde el conjunto de datos podría influenciar nuestra elección sobre el modelo a utilizar para resolver el problema de aprendizaje automático. Para separar las muestras en train y test, dos distribuciones muy comunes en la práctica son 70% de train y 30% de test, y 80% de train y 20% de test. Al utilizar una distribución 70-30 obtendríamos una estimación mejor del error $E_{out}$ a partir del error $E_{test}$ que con la de 80-20, ya que se utilizaría un número mayor de muestras para obtener la estimación, un 30% del total, que en la otra distribución que usaría un 20% del total. Sin embargo, al utilizar una distribución 80-20 obtendríamos un mejor ajuste del problema al entrenar el modelo de aprendizaje con más datos que con la otra distribución, teniendo una mejor generalización en el conjunto de entrenamiento de la función que tratamos de aproximar. En general cuantos más datos se utilicen en test mejor será la estimación del error  $E_{out}$ y cuantos más datos se utilicen en el entrenamiento, el clasificador calculado se ajustará mejor al problema, ya que tiene más datos con los que aprender.\n",
        "En este caso he elegido una distribución de 80% para entrenamiento y 20% de test, teniendo en cuenta que con esta distribución se tiene un número menor de datos para estimar el error  $E_{out}$, pero se tiene un número mayor de datos para entrenar y para utilizar Cross-Validation con un conjunto de datos mayor."
      ],
      "metadata": {
        "id": "qJRxc5lLpbEc"
      }
    },
    {
      "cell_type": "code",
      "source": [
        "trainPortion = 0.7 #porcentaje de train, el porcentaje de test será la resta de 1 menos el porcentaje de train\n",
        "\n",
        "#-------------Obtener índices\n",
        "\n",
        "indexesData = np.arange(len(Y_total)) #Indices del conjunto de muestras\n",
        "#-------------Desordenar indices y separar en rain y test\n",
        "\n",
        "np.random.shuffle(indexesData) #Desordenar indices de las muestras\n",
        "numberTrain = round(len(indexesData)*trainPortion) #numero de muestras para train\n",
        "trainIndexes = indexesData[:numberTrain]\n",
        "testIndexes = indexesData[numberTrain:]\n",
        "\n",
        "#-------------Datos desorden:ados para train y test\n",
        "\n",
        "X_train = X_total[trainIndexes]\n",
        "X_test = X_total[testIndexes]\n",
        "Y_train = Y_total[trainIndexes]\n",
        "Y_test = Y_total[testIndexes]\n",
        "\n",
        "#-------------Copia de los datos para mantener datos originales después del preprocesado\n",
        "\n",
        "original_trainX = X_train.copy()\n",
        "original_testX = X_test.copy()\n",
        "original_trainY = Y_train.copy()\n",
        "original_testY = Y_test.copy()\n",
        "\n",
        "#-------------Mostrar resultados\n",
        "\n",
        "print('Muestras totales:  {}'.format(len(Y_train)+len(Y_test)))\n",
        "print('Muestras train:  {}'.format(len(Y_train)))\n",
        "print('Muestras test:  {}'.format(len(Y_test)))\n"
      ],
      "metadata": {
        "id": "6nXUieJWpv2t",
        "colab": {
          "base_uri": "https://localhost:8080/"
        },
        "outputId": "8be43144-d1d4-4cf3-c163-b545f70714e8"
      },
      "execution_count": null,
      "outputs": [
        {
          "output_type": "stream",
          "name": "stdout",
          "text": [
            "Muestras totales:  92000\n",
            "Muestras train:  64400\n",
            "Muestras test:  27600\n"
          ]
        }
      ]
    },
    {
      "cell_type": "markdown",
      "source": [
        "Se podría utilizar la función `train_test_split()` de scikit-learn que ofrece un comportamiento similar al código implementado. Como podemos observar, tenemos un total de 92000 muestras, de los cuales 73600 , que representan el 80% del total, serán utilizados para entrenamiento y el resto 18400 (20% del total) para test."
      ],
      "metadata": {
        "id": "pxH0FJXoCkVT"
      }
    },
    {
      "cell_type": "markdown",
      "source": [
        "## Transformaciones y preprocesado de los datos de entrada\n",
        "\n",
        "Teniendo el problema planteado, pasaremos a realizar un preprocesado inicial de los datos, esto es transformaciones sobre los datos originales $\\text{x}$ que son previos a posterior entrenamiento y validación de los datos."
      ],
      "metadata": {
        "id": "mvpF0aXdUyll"
      }
    },
    {
      "cell_type": "markdown",
      "source": [
        "#### Normalización/Escalado de los datos de entrada\n",
        "\n",
        "En nuestro caso haremos una primera transformación que se denomina un escalado de los datos o normalización de los datos. El escalado consiste en establecer un mapeo de los valores de cada atributo a un rango de valores concreto y común entre todos los atributos. La normalización de los atributos es una práctica muy común en Machine Learning y en ciencia de datos ya que:\n",
        "- Permite un entrenamiento más estable en el sentido de que al realizar el proceso de optimización o aprendizaje de los pesos, al tener un rango de valores más pequeño restringe el espacio de búsqueda de los pesos lo que puede evitar problemas como un _estancamiento del gradiente_ que esta presente sobre todo en redes neuronales.\n",
        "- Permite un entrenamiento más rápido en converger a una solución, esto se debe a que evita desbordamientos de los valores de los pesos, como puede ser el caso de un dato de entrada que sea muy grande y el peso que pondera este dato (dependiendo de su valor inicial) puede tardar mucho en poder converger con este dato.\n",
        "\n",
        "Aunque en nuestro caso, los valores de los píxeles están en un rango cerrado $[0,255]$, un escalado de los datos nos ayudará a mejorar el rendimiento del aprendizaje. En nuestro caso optaremos por una normalización _Min-Max_ también denominado _reescalado_, que se formula de la siguiente forma:\n",
        "$$z_j = \\frac{x_j - \\min{(x_j)}}{\\max{(x_j) - \\min{(x_j)}}}$$"
      ],
      "metadata": {
        "id": "cHw_4PeeDtNG"
      }
    },
    {
      "cell_type": "markdown",
      "source": [
        "Es importante notar, que el escalado que hagamos en training debe ser el mismo escalado que se hará en test, esto es usar el mismo máximo y el mismo mínimo que en training para test; esto es para que el escalado en test vaya acorde con lo que aprendió el modelo que son valores escalados en training, y no haya una interpretación errónea de los resultados. Sin embargo, esto no es probable que pase, ya que los valores de los píxeles son fijados en un rango concreto $[0,255]$, por tanto, es muy improbable que ocurra que en test no haya un mínimo en $0$ o un máximo en $255$, en todo caso, para estar seguros guardaremos los máximos y los mínimos de los atributos en training como constantes para su posterior uso.\n",
        "\n",
        "> En el caso de que hayan columnas con solo valores $0$, como puede ser las esquinas de las imágenes, entonces le asignamos un valor de cero (ignoramos normalizar estas columnas)"
      ],
      "metadata": {
        "id": "WwNyCPxt9DQT"
      }
    },
    {
      "cell_type": "code",
      "source": [
        "# Definimos una función que abstrae este proceso para un conjunto de features\n",
        "# con valores concretos de min y max\n",
        "def min_max_scaling(X, min_vals, max_vals):\n",
        "    # Inicializamos el conjunto normalizado\n",
        "    norm_X = np.zeros(X.shape, dtype=float)\n",
        "\n",
        "    # obtener las columnas con solo ceros\n",
        "    zero_cols = np.where(np.all(X == 0, axis=0))[0]\n",
        "\n",
        "    # Normalizamos cada columna\n",
        "    for i in range(X.shape[1]):\n",
        "        # Mantenemos las columnas originales con solo ceros\n",
        "        if i in zero_cols:\n",
        "            norm_X[:, i] = X[:, i]\n",
        "        # De lo contrario, normalizamos\n",
        "        else:\n",
        "            norm_X[:, i] = (X[:, i] - min_vals[i]) / (max_vals[i] - min_vals[i])\n",
        "\n",
        "    # Devolver el conjunto normalizado\n",
        "    return norm_X"
      ],
      "metadata": {
        "id": "80qbAaCJ8F61"
      },
      "execution_count": null,
      "outputs": []
    },
    {
      "cell_type": "markdown",
      "source": [
        "#### Datos faltantes\n",
        "\n",
        "Una parte importante y común del preprocesado de datos es el tratamiento de datos faltantes o datos perdidos. Es muy importante que no hayan datos nulos, faltantes o incluso incorrectos en los datos ya que pueden influir negativamente al aprendizaje ya que el modelo puede interpretar esta falta de datos de una manera que no pretendemos que haga.\n",
        "\n",
        "Comprobamos entonces que no hay datos nulos o valores que se salgan del rango $[0,255]$ en primer lugar."
      ],
      "metadata": {
        "id": "xtzE_ZzSNA_a"
      }
    },
    {
      "cell_type": "code",
      "source": [
        "# Verificar si hay valores NaN en X_train\n",
        "if pd.isna(X_train).sum(): print(\"Valores nulos\")\n",
        "\n",
        "# Verificar si hay valores NaN en Y_train\n",
        "if pd.isna(Y_train).sum(): print(\"Valores nulos\")\n",
        "\n",
        "# Verificar si hay valores infinitos en X_train\n",
        "if np.isinf(X_train).sum(): print(\"Valores infinitos\")\n",
        "\n",
        "# Verificar si hay valores infinitos en Y_train\n",
        "if np.isinf(Y_train).sum(): print(\"Valores infinitos\")\n",
        "\n",
        "# Verificar si hay valores fuera de [0,255]\n",
        "if X_train[X_train < 0].size: print(\"Datos incorrectos\")\n",
        "if X_train[X_train > 255].size: print(\"Datos incorrectos\")\n"
      ],
      "metadata": {
        "id": "GFRl0sp8soJQ"
      },
      "execution_count": null,
      "outputs": []
    },
    {
      "cell_type": "markdown",
      "source": [
        "Vemos que no existen casos de valores nulos o errores de medidas en los datos.\n",
        "\n",
        "Otro tipo de datos nulos o faltantes pueden ser, por ejemplo, que en la obtención de las imágenes, hayan imágenes que no muestren ningún caracter, una imágen vacía o en blanco. Esto lo podemos comprobar fácilmente verificando que todas las imágenes no tengan un vector de valores únicos de píxeles.\n",
        "\n",
        "Si visualizamos una imágen en concreto, podemos ver el valor de color del fondo."
      ],
      "metadata": {
        "id": "rFNvMvdZwUWA"
      }
    },
    {
      "cell_type": "code",
      "source": [
        "img_arr = X_train[33]\n",
        "img = Image.fromarray(img_arr.reshape(32,32).astype(np.uint8))\n",
        "\n",
        "zoom_factor = 5\n",
        "\n",
        "# Resize image\n",
        "zoomed_img = img.resize((img.width * zoom_factor, img.height * zoom_factor))\n",
        "\n",
        "zoomed_img.show()\n",
        "print([key for key, val in map_labels.items() if val == Y_train[33]])"
      ],
      "metadata": {
        "colab": {
          "base_uri": "https://localhost:8080/",
          "height": 194
        },
        "id": "bYGD690CxW4U",
        "outputId": "77a09d33-7def-4b7f-f6c6-62d75debb28f"
      },
      "execution_count": null,
      "outputs": [
        {
          "output_type": "display_data",
          "data": {
            "text/plain": [
              "<PIL.Image.Image image mode=L size=160x160 at 0x7F1F3F4710C0>"
            ],
            "image/png": "[encoded data removed]"
          },
          "metadata": {}
        },
        {
          "output_type": "stream",
          "name": "stdout",
          "text": [
            "['character_20_na']\n"
          ]
        }
      ]
    },
    {
      "cell_type": "markdown",
      "source": [
        "Podemos ver que el fondo debe ser de color negro, es decir, valor $0$; por tanto, podemos considerar un vector cero de píxeles como un ejemplo faltante o perdido. Comprobamos la existencia de este caso."
      ],
      "metadata": {
        "id": "19RwwDRRzH5x"
      }
    },
    {
      "cell_type": "code",
      "source": [
        "if np.any(np.all(X_train == 0, axis=1)):\n",
        "    print('lost image')\n",
        "else:\n",
        "    print('all images are valid')"
      ],
      "metadata": {
        "colab": {
          "base_uri": "https://localhost:8080/"
        },
        "id": "Zl5v7vOBzWK0",
        "outputId": "a744b5c2-f414-408b-dd56-fa197a42d6f0"
      },
      "execution_count": null,
      "outputs": [
        {
          "output_type": "stream",
          "name": "stdout",
          "text": [
            "all images are valid\n"
          ]
        }
      ]
    },
    {
      "cell_type": "markdown",
      "source": [
        "Por tanto, tenemos cierta seguridad de que no hay datos faltantes o datos incorrectos en nuestro dataset de entrenamiento, por lo que no haremos ninguna transformación o procesado al respecto."
      ],
      "metadata": {
        "id": "RyxlDmy8008g"
      }
    },
    {
      "cell_type": "markdown",
      "source": [
        "#### Desequilibrio de clases\n",
        "\n",
        "Una parte importante a tener en cuenta sobre nuestro conjunto de datos es el desequilibrio de las clases presentes en nuestro dataset, esto es el nivel de representación de cada caracter de nuestro conjunto de training. Cuando hay un desbalanceo de una o más clases, ocurre una dominancia de una clase sobre otra, esto quiere decir, que nuestros modelos pueden aprender mucha información sobre un conjunto de clases que está muy representada en los datos y aprender muy poca información de otros más infrarepresentados. Nos interesa que todas las clases estén bien representadas para poder tener un modelo final de clasificación lo más potente y capáz posible en el dominio del problema y así poder tener una capacidad de clasificación sobre todas las clases posibles.\n",
        "\n",
        "En nuestro caso, según la descripción del conjunto de datos, se dispone de $2000$ ejemplos de cada clase en el dataset completo; por tanto, en principio no debería de haber desbalanceo en las clases del conjunto de datos, sin embargo, cuando particionamos en datos de training y test, puede haber cierto desbalanceo que depende de la partición concreta que hemos realizado, esto lo hemos abordado realizando una separación de los datos con previa aleatorización del conjunto entero, de manera que la distribución sea lo más independiente posible de la partición que hemos hecho.\n",
        "\n",
        "Si visualizamos el conteo de todas las etiquetas $y$ para todos los ejemplos del conjunto de training podemos comprobar la distribución de las clases y tener una mejor percepción de este problema."
      ],
      "metadata": {
        "id": "NxgUuLpT2VTv"
      }
    },
    {
      "cell_type": "code",
      "source": [
        "plt.figure(figsize=(12, 6))\n",
        "sns.countplot(x=Y_train)\n",
        "\n",
        "plt.title('Distribución de clases en Train')\n",
        "plt.xlabel(f'Labels (y)')\n",
        "plt.show()"
      ],
      "metadata": {
        "colab": {
          "base_uri": "https://localhost:8080/",
          "height": 504
        },
        "id": "1vj_usVJ6SIQ",
        "outputId": "1996706a-76ad-49e2-c872-8802739b30b2"
      },
      "execution_count": null,
      "outputs": [
        {
          "output_type": "display_data",
          "data": {
            "text/plain": [
              "<Figure size 1200x600 with 1 Axes>"
            ],
            "image/png": "[encoded data removed]"
          },
          "metadata": {}
        }
      ]
    },
    {
      "cell_type": "markdown",
      "source": [
        "Como podemos observar, no hay datos que estén _sobrerepresentados_ o _infrarepresentadas_ en nuestro conjunto de training de una manera muy notable o preocupante, por lo que consideramos que con haber hecho una partición de los datos aleatorizada es suficiente para abordar el problema de clases desbalanceadas y por tanto, no haremos procesamiento en cuanto a esto."
      ],
      "metadata": {
        "id": "UB2puahU8rwZ"
      }
    },
    {
      "cell_type": "markdown",
      "source": [
        "#### Transformación del atributo predictor ($y$)\n",
        "\n",
        "En la construcción de nuestros modelos de clasificación es importante notar que es un problema de clasificación multiclase y no un problema de clasificación binaria, por tanto, tener un enfoque diferente para construir nuestros modelos para que puedan clasificar más de una etiqueta dado un ejemplo.\n",
        "\n",
        "En primer lugar, para los clasificadores RL y SVM, que son modelos binarios por defecto, usaremos el enfoque denominado _one vs. rest_ que consiste en:\n",
        "\n",
        "- Para cada etiqueta entrenaremos un modelo (RL y SVM) para predecir de forma binaria si un ejemplo pertenece a tal clase o no; si tenemos $46$ clases entonces comprenderemos $46$ modelos de RL y de SVM.\n",
        "\n",
        "- Cuando querámos clasificar un ejemplo concreto, cada modelo entrenado para clasificar una etiqueta concreta se aplicará al nuevo ejemplo y elegiremos la clase cuyo modelo ha indicado la mayor pertenencia a tal ejemplo, es decir, tomámos el modelo que ha clasificado con mayor \"_confianza_\" el ejemplo y tomar la etiqueta que corresponde con tal modelo.\n",
        "\n",
        "El concepto de pertenencia o _confianza_ en predecir un ejemplo viene dado por el modelo en cuestión; el modelo de RL asigna una probabilidad de _pertenencia_ de un ejemplo a una clase, por tanto podemos usar la misma salida para determinar la mayor pertenencia, esto es, elegir la etiqueta cuyo modelo correspondiente haya dado la mayor probabilidad (el mayor valor $h_i(\\text{x})$). El modelo SVM no obstante, clasifica con una función de predicción que asigna la clase a la que pertenece un ejemplo, aún así podemos definir la pertenencia a una clase con la distancia ortogonal del _data point_ con el hiperplano resultante, de esta manera elegimos la clase cuyo modelo SVM correspondiente tenga la mayor distancia con el hiperplano, puesto a que a mayor distancia este el _data point_ del hiperplano más \"dentro\" esta de la clase a la que pertenece.\n",
        "\n",
        "Por último, para nuestro modelo de Perceptrón Multicapa no hace falta seguir el mismo enfoque que con RL y SVM ya que este modelo puede tratar con problemas de clasificación multiclase simplemente definiendo la dimensión de la capa de salida como $d(L) = k$ siendo $k$ el número de clases de nuestro problema (sabemos que $k = 46$ para nuestro problema concreto).\n",
        "\n",
        "Nótese que debemos de realizar una transformación sobre el atributo objetivo de nuestro conjunto de datos, y es el de \"binarizar\" el atributo, esto es porque nuestros modelos al intentar aprender de nuestros datos, los valores de $y$ que están en el rango $[0,45]$, no tienen una propiedad de orden en ellos; la clase $0$ no es menor que la clase $46$, estos valores de $y_i$ simplemente están para _categorizar_ cada clase $C_i$, por tanto, para poder llevar a cabo el enfoque _one vs. rest_ y definir las etiquetas del MLP, debemos de realizar un tipo de codificación sobre estas categorías. Existen diferentes codificaciones pero nosotros nos valdremos con la de _One Hot Encoding_ que asigna un nuevo atributo por cada categoría (clase); de esta manera nuestro conjunto de etiquetas de training será una matriz $N \\times k$, con $N$ el número de ejemplos. Nótese que ahora podemos entrenar un modelo de clasificación binaria simplemente usando una columna de la matriz u otra, además para el modelo MLP será útil ya que ahora podrá aprender la relación de orden existente entre las clases con la \"activación\" y \"desactivación\" de cada atributo."
      ],
      "metadata": {
        "id": "lNDAm_zA-TU3"
      }
    },
    {
      "cell_type": "markdown",
      "source": [
        "La implementación de este enfoque viene incluido por defecto en los modelos que implementaremos: `SGDClassifier` y `SVC` soportan multiclase con enfoque _One vs. Rest_ (1); sin embargo, aquí hacemos mención del proceso subyacente.\n",
        "\n",
        "> (1) https://scikit-learn.org/stable/modules/sgd.html#classification"
      ],
      "metadata": {
        "id": "C-uFF0BZX8u3"
      }
    },
    {
      "cell_type": "markdown",
      "source": [
        "### Extracción de características (_feature extraction_)\n",
        "\n",
        "#### Problema de la representación de las características $\\text{X}$\n",
        "\n",
        "El último tratamiento sobre los datos que vamos a considerar es acerca del elección y/o extracción de características (_features_) de nuestro conjunto de entrenamiento. Cuando hemos descrito nuestro conjunto de datos de entrada $\\text{X} = \\{\\text{x}_1, \\text{x}_2, ..., \\text{x}_N\\}$, hemos visto que cada vector de características $\\text{x}_n$ estaba definido por el conjunto de píxeles del ejemplo concreto (imágen), y cada píxel tenía un valor en el rango $[0,255]$. El problema de estos datos de entrada es que no es un enfoque muy representativo de lo que puede significar un caracter _Devanagari_ y esto puede dar lugar a problemas a nuestros modelos en cuanto a extraer el patrón subyacente en la asignación de las clases.\n",
        "\n",
        "Por poner un ejemplo, consideremos la clase $C' = \\text{\"na\"}$ que corresponde al caracter _Devanagari_ \" __न__ \". Tomamos de esta clase $3$ ejemplos"
      ],
      "metadata": {
        "id": "E8UvHCzT-s9Z"
      }
    },
    {
      "cell_type": "code",
      "source": [
        "# Obtener la etiqueta para la clase\n",
        "clas = map_labels['character_20_na']\n",
        "\n",
        "# Tomar 3 ejemplos\n",
        "idx_na = Y_train[Y_train == clas][:3]\n",
        "idx_na = np.argwhere(Y_train == clas).flatten()[:3]\n",
        "\n",
        "img_arrays = X_train[idx_na]\n",
        "\n",
        "images = [Image.fromarray(pixels.reshape(32,32).astype(np.uint8)) for pixels in img_arrays]\n",
        "\n",
        "# PLOT\n",
        "fig, axes = plt.subplots(1, 3, figsize=(8,6))\n",
        "\n",
        "for i in range(3):\n",
        "    # asignar la imagen i al axis i\n",
        "    axes[i].imshow(images[i], cmap='gray')\n",
        "    # removemos el axis original para dejar solo la imagen\n",
        "    axes[i].axis('off')\n",
        "    axes[i].set_title(f\"Ejemplo {i+1}\")\n",
        "\n",
        "# ajustar el espaciado entre las imagenes\n",
        "plt.tight_layout()\n",
        "\n",
        "# mostrar plot\n",
        "plt.show()"
      ],
      "metadata": {
        "colab": {
          "base_uri": "https://localhost:8080/",
          "height": 306
        },
        "id": "zPrEqCWehYUP",
        "outputId": "80e88aef-7b4a-42e3-9261-d838adf02e61"
      },
      "execution_count": null,
      "outputs": [
        {
          "output_type": "display_data",
          "data": {
            "text/plain": [
              "<Figure size 800x600 with 3 Axes>"
            ],
            "image/png": "[encoded data removed]"
          },
          "metadata": {}
        }
      ]
    },
    {
      "cell_type": "markdown",
      "source": [
        "Podemos ver que para una misma clase, el estilo de escritura de cada imágen puede diferenciarse notablemente de un ejemplo a otro. Si observamos concretamente el Ejemplo 2 y el ejemplo 3 podemos apreciar una diferencia abismal y es la localización del caracter en la imágen; el Ejemplo 2 abarca una porción de imágen muy alta mientras que el Ejemplo 3 es un caracter mucho más pequeño, esto puede resultar en un empeoramiento del aprendizaje de nuestros modelos por el siguiente motivo: el tamaño de los caracteres no es una característica que queremos aprender de los datos. Si el Ejemplo 1 y 2 abarcan una porción grande de la imágen, el modelo puede aprender, por ejemplo, que los píxeles de la parte superior deben ser blancos, pero cuando se encuentre con un caracter como el Ejemplo 3, detectará que todos los píxeles en la parte superior de la imágen son píxeles negros, por tanto, el modelo clasificará mal el Ejemplo 3 en evaluación y en training dificultaría su aprendizaje.\n",
        "\n",
        "Esta claro que tenemos, de alguna manera que extraer características representativas de las clases presentes en las imágenes, este proceso como podemos apreciar, no es trivial y de hecho involucra todo un campo en la extracción de características para muchos problemas de ML, lo que se conoce como _feature engineering_. En nuestro caso que trabajamos con caracteres manuscritos, lo único que queremos obtener o extraer de los caracteres son aquellas formas o trazos comunes entre los caracteres de una clase que los diferencian del resto. Por poner el ejemplo anterior, una característica del caracter \"_na_\" es que \"siempre tiene una especie de 'lazo' en la parte izquierda\". La representación de estas características es un problema que es complejo sobre todo si queremos representarlas de alguna forma numérica, afortunadamente existen técnicas en la literatura que nos permiten obtener estas características, nosotros optaremos por el método de _Histogram of oriented gradients_ o (HOG).\n",
        "\n",
        "#### Histogram of Oriented Gradients - HOG\n",
        "\n",
        "HOG es uno de los muchos descriptores de características para problemas relacionados con Visión por Computador y es usado especialmente para detección de objetos en imágenes.\n",
        "\n",
        "La idea fundamental de HOG es que las formas de los objetos locales en la imágen (en nuestro caso las formas de los caracteres) pueden ser representados o descritos por una distribución (o histograma) de gradientes de intensidad o direcciones de bordes. La imágen se divide en zonas, llamadas celdas, que comprenden un conjunto de píxeles, se computa luego el histograma de gradientes orientados de cada celda de la imágen; el descriptor final es la concatenación de todos los histogramas de la imágen. Los gradientes sobre una celda obtienen información acerca de la dirección y los cambios de constraste de cada píxel en la celda, estos gradientes pueden ser computados por distintos operadores como Sobel para detección de ejes.\n",
        "\n",
        "Podemos visualizar un ejemplo de la imágen resultante de usar HOG sobre un caracter concreto (*).\n",
        "\n",
        "> (*) Este no será la configuración que usaremos, en el ejemplo es solo por motivos ilustrativos y para entender mejor los conceptos."
      ],
      "metadata": {
        "id": "PF_yzl9czhAe"
      }
    },
    {
      "cell_type": "code",
      "source": [
        "# Cargar una imagen de ejemplo\n",
        "image = images[0]\n",
        "\n",
        "# Calculamos el descriptor HOG sobre la imágen\n",
        "hog_features, hog_image = feature.hog(image, visualize=True)\n",
        "\n",
        "# Mostrar la imagen original y el resultado del descriptor HOG\n",
        "fig, axes = plt.subplots(1, 2, figsize=(6, 6))\n",
        "\n",
        "axes[0].imshow(image, cmap='gray')\n",
        "axes[0].axis('off')\n",
        "axes[0].set_title('Imagen original')\n",
        "\n",
        "axes[1].imshow(hog_image, cmap='gray')\n",
        "axes[1].axis('off')\n",
        "axes[1].set_title('Descriptor HOG')\n",
        "\n",
        "plt.tight_layout()\n",
        "plt.show()"
      ],
      "metadata": {
        "colab": {
          "base_uri": "https://localhost:8080/",
          "height": 336
        },
        "id": "278mj5XITd6T",
        "outputId": "ae6faf1d-eb60-424f-a20a-ac08b13f8db2"
      },
      "execution_count": null,
      "outputs": [
        {
          "output_type": "display_data",
          "data": {
            "text/plain": [
              "<Figure size 600x600 with 2 Axes>"
            ],
            "image/png": "[encoded data removed]"
          },
          "metadata": {}
        }
      ]
    },
    {
      "cell_type": "markdown",
      "source": [
        "Como podemos observar, el descriptor logra capturar las diferentes propiedades del caracter:\n",
        "- Captura la propiedad o característica \"_tiene un lazo en la parte izquierda_\" y que podemos observar como los gradientes forman un ciclo por la zona izquierda.\n",
        "- Captura la propiedad \"_tiene una barra horizontal superior_\" y que podemos observar como los gradientes se orientan horizontalmente en la parte superior del caracter.\n",
        "\n",
        "En resúmen, HOG nos permite representar características latentes de los caracteres en forma de histogramas de gradientes de intensidad que podemos usar para caracterizar un caracter concreto solo basandonos en estas distribuciones que capturan la esencia del caracter.\n",
        "\n",
        "HOG es especialmente bueno sobre otros descriptores por centrarse en la distribución de los gradientes en la imágen, por lo que reconoce de una forma más precisa los contornos del objeto en cuestión, algo especialmente útil en nuestro problema para detectar las formas de los caracteres como lazos o formas rectangulares.\n",
        "\n",
        "Implementaremos el descriptor haciendo uso de la utilidad de `scikit-learn` para extracción de características `hog`. Esta función acepta los siguientes parámetros para ajustar HOG según nuestras necesidades:\n",
        "- `orientation`: representa la cantidad de orientaciones que tendrá el histograma de gradientes, por tanto, mientras más alto sea el número de orientaciones, será más capaz de capturar contornos más complejos. Aunque puede resultar beneficioso tener un número alto de orientaciones, este aumento también incrementa la dimensión del vector de características resultante, por tanto, es importante encontrar un equilibro para este parámetro; por tanto, asumiremos en un principio el valor por defecto de $9$ orientaciones y ajustaremos el valor según consideremos más adelante.\n",
        "- `pixels_per_cell`: indica el número de píxeles o el tamaño que tendrá cada celda en la que se divide la imágen. Esta vez, si el tamaño es muy pequeño, el histograma será mucho más preciso para capturar detalles finos, pero esto aumenta la dimensionalidad y por tanto un vector de _features_ mucho más grande. Elegiremos en un principio un valor de `(8,8)` al ser divisor del tamaño de la imágen y por ser un tamaño razonable teniendo en cuenta el tamaño de la imágen original. Esto sin embargo, podemos volver a ajustarlo según necesitemos.\n",
        "- `cells_per_block`: determina el tamaño de los bloques en los que se normalizan los histogramas locales. La normalización de los histogramas es importante en casos donde se pretende reconocer objetos en imágenes con iluminación por ejemplo, donde la presencia de este puede afectar en las variaciones que pueden tomar los gradientes, esta normalización haría que el descriptor sea más robusto frente a estas variaciones. Este parámetro puede ser útil cuando queremos capturar detalles finos de forma local, por ejemplo, si en los caracteres, es importante determinar bien los trazos de los lazos entonces tener un tamaño de bloque de normalización más grande puede capturar detalles finos al dividirse en más subregiones (celdas), pero esto aumenta también la dimensionalidad del vector resultante; lo contrario pasa el número de celdas por bloques es más pequeño, obteniendo una representación más global. Nosotros, usaremos un tamaño de `(1,1)`, ya que nos conviene ser capaces de capturar detalles más globales de los caracteres, recordemos que el estilo de escritura influye en gran medida, por lo que capturar detalles finos nos puede perjudicar; además estaremos reduciendo dimensionalidad lo que mejora la probabilidad de una mejor generalización.\n",
        "- `block_norm`: determina el método de normalización que se aplica a cada bloque de normalización de los histogramas. Esto es especialmente relevante cuando las variaciones en la iluminación de las imágenes es muy brusca y por tanto se necesita de un suavizado de estas variaciones para no perjudicar el descriptor. En nuestro caso, como solamente existe una variación monótona en las imágenes, que es cuando se realiza el trazo del caracter, la elección de un método de normalización no es tan relevante, por tanto, nos contentaremos con el valor por defecto `L2-Hys` que simplemente realiza una supresión de los valores atípicos que mejora la invarianza en el contraste.\n",
        "- `visualize`: indica si se quiere devolver también la imágen resultante del vector de características nuevo. Nosotros indicaremos que `True` solo para fines demostrativos pero en la transformación final no será necesario y estableceremos a `False`."
      ],
      "metadata": {
        "id": "fLoOzqcSTcvS"
      }
    },
    {
      "cell_type": "code",
      "source": [
        "image_pixels = X_train[idx_na[0]].reshape(32,32)\n",
        "\n",
        "# Calcula el descriptor HOG fd, y devuelve la imagen resultante\n",
        "fd, image_hog = feature.hog(image_pixels, orientations=4, pixels_per_cell=(8, 8), cells_per_block=(1, 1), block_norm='L2-Hys', visualize=True)\n",
        "\n",
        "# Visualiza la imagen original y ##la imagen HOG\n",
        "fig, (ax1, ax2) = plt.subplots(1, 2, figsize=(8, 4), sharex=True, sharey=True)\n",
        "\n",
        "ax1.axis('off')\n",
        "ax1.imshow(image_pixels, cmap=plt.cm.gray)\n",
        "ax1.set_title(f'Imagen original. {image_pixels.size} features')\n",
        "\n",
        "ax2.axis('off')\n",
        "ax2.imshow(image_hog, cmap=plt.cm.gray)\n",
        "ax2.set_title(f'Características HOG. {fd.size} features')\n",
        "\n",
        "plt.show()"
      ],
      "metadata": {
        "colab": {
          "base_uri": "https://localhost:8080/",
          "height": 341
        },
        "id": "T7KRFaA0cYnK",
        "outputId": "c5d1cda7-c4c2-41ed-ec10-b7c403401cf8"
      },
      "execution_count": null,
      "outputs": [
        {
          "output_type": "display_data",
          "data": {
            "text/plain": [
              "<Figure size 800x400 with 2 Axes>"
            ],
            "image/png": "[encoded data removed]"
          },
          "metadata": {}
        }
      ]
    },
    {
      "cell_type": "markdown",
      "source": [
        "Como podemos observar, el uso de un tamaño de celdas de $8\\times 8$, un tamaño de bloques de $1\\times 1$ y un número de orientaciones de $4$ resultan en una reducción considerable del número de características resultante y puede representar relativamente bien un caracter. Esta reducción nos conviene positivamente ya que estamos reduciendo la dimensión VC de nuestro problema y por tanto según la cota de generalización, nuestros modelo generalizarán mejor con nuevos datos, así como mejorar el rendimiento en el proceso de aprendizaje y llegar a una convergencia más temprana."
      ],
      "metadata": {
        "id": "aC_HGVacrh9u"
      }
    },
    {
      "cell_type": "code",
      "source": [
        "def extract_features(X):\n",
        "    # convertir vectores originales en matrices\n",
        "    X_aux = X.reshape(X.shape[0], 32, 32)\n",
        "\n",
        "    # por cada ejemplo, obtenemos su respectivo descriptor HOG\n",
        "    fds = []\n",
        "    for e in X_aux:\n",
        "        fd = feature.hog(e, orientations=4, pixels_per_cell=(8, 8), cells_per_block=(1, 1), block_norm='L2-Hys')\n",
        "        fds.append(fd)\n",
        "\n",
        "    # devolver el nuevo conjunto de train\n",
        "    return np.array(fds)"
      ],
      "metadata": {
        "id": "bnpKWduxsZag"
      },
      "execution_count": null,
      "outputs": []
    },
    {
      "cell_type": "markdown",
      "source": [
        "## Proceso de selección de modelos (_model selection_)\n",
        "\n",
        "#### S-fold Cross Validation\n",
        "Un aspecto crucial a tener en cuenta y que hemos mencionado antes, es que el conjunto de datos de test $\\mathcal D_{test}$ se __reserva__ para la evaluación del modelo __final__, esto quiere decir que el conjunto de test en ningún momento puede influir en el aprendizaje de nuestro modelo, pues _contaminaría_ los datos e introducirían un sesgo en el modelo; por tanto es importante que no utilicemos estos datos hasta el final del entrenamiento cuando queramos evaluar su rendimiento final, ya que el error en este conjunto de test $E_{test}$ resulta en un buen estimador del error fuera de la muestra $E_{out}$ siempre y cuando los datos se hayan obtenido de una muestra identica e independientemente distribuida para poder aplicar la Inecuación de Hoeffding y garantizar una cota del error de generalización que dependa de $E_{test}$, esta cota es mucho menos suelta que la cota de generalización que depende de $E_{in}$ y por tanto es un buen estimador para validar nuestro modelo siempre que se considere solo la hipótesis final $g$ al final del entrenamiento.\n",
        "\n",
        "Sin embargo, en el ajuste del modelo nos encontraremos en situaciones donde el modelo cambia drásticamente cuando usamos parámetros en los que influye el entrenamiento; estos parámetros son conocidos como _hiperparámetros_ e influyen de una manera significativa el aprendizaje, entre ellos podemos encontrar: el _learning rate_ para el Descenso de Gradiente, el parámetro de penalización o regularización $C$ en el modelo SVM o el parámetro de la intensidad de regularización $\\lambda$. Es por esto que debemos de tener alguna forma de evaluar los modelos correspondientes a la elección de los diferentes valores de estos hiperparámetros y poder optar por el mejor de ellos; a este concepto se le denomina elección del modelo o _model selection_. Se trata de poder evaluar _en entrenamiento_ el rendimiento de una serie de modelos cuando se enfrentan con datos __nuevos__, por esto es que usar el propio conjunto de training no es un buen indicador del rendimiento ante datos no vistos por que el modelo esta justamente sesgado por este conjunto, se dice que los datos están _contaminados_. Esto introduce la necesidad de un nuevo conjunto de datos: el conjunto de _validación_.\n",
        "\n",
        "El conjunto de _validación_ es un conjunto de datos que se extrae realizar un _hold out_ de $\\mathcal D_{train}$ y que denominaremos $\\mathcal D_{val}$ con tamaño $K$ de ejemplares. Este conjunto de validación es el que se usará para medir el rendimiento de varios modelos en el proceso de _model selection_ mientras que el conjunto de datos restantes se usará para el ajuste. Es importante notar que para definir este conjunto de validación, no es trivial el tamaño $K$ que elegiremos, de hecho la elección de un buen $K$ debe satisfacer por un lado que hayan suficientes ejemplares de entrenamiento $N-K$, y que a la vez satisfaga un $K$ suficiente para que $\\mathcal D_{val}$ estime de la mejor manera ek rendimiento fuera de la muestra. Además existe el problema que nos encontramos cuando queriamos separar training y test, que el ajuste depende de la partición concreta del conjunto de datos y puede dar resultados sesgados. Estos problemas los resuelve la técnica que usaremos para poder validar nuestros modelos candidatos, la técnica de validación cruzada en $S$ pliegues o _S-fold cross validation_.\n",
        "\n",
        "La técnica de validación cruzada en $S$ pliegues o S-fold CV consiste en la partición de los datos de entrenamiento $\\mathcal D_{train}$ en $S$ grupos (en nuestro caso nos limitaremos a que los grupos sean del mismo tamaño) y que los $S-1$ groupos se usen para ajustar y el restante se use para validar. Este proceso luego es repetido en todas las $S$ posibles formas de realizar el _hold out_ de $\\mathcal D_{train}$. Finalmente, se obtiene el promedio de las mediciones de rendimiento de cada _fold_ y esa será la medición final que mide el rendimiento del modelo. En la siguiente figura(2) podemos observar un esquema visual de la partición tanto de training y test, y la obtención de $S$ conjuntos de validación.\n",
        "\n",
        "![Esquema de la partición en conjuntos de training, validacion y test](https://scikit-learn.org/stable/_images/grid_search_cross_validation.png)\n",
        "\n",
        "Un aspecto a tener en cuenta en esta técnica de _model selection_ es el parámetro $S$ que define tanto $K$ como el número de _folds_ o ajustes y validación a realizar del modelo. Un caso extremo es cuando $S = N$, que es lo que se conoce como _leave-one-out_, ya que ajustamos en cada _fold_ dejando un ejemplo fuera para validación; esta configuración es especialmente útil cuando los datos disponibles son escasos ya que con _leave-one-out_ se consigue el mejor ajuste posible por tener el máximo $N-K$ para entrenar, sin embargo, resulta muy costoso el proceso puesto que si $N$ es muy grande, entonces el número de _folds_ a realizar será muy grande ($N$ _folds_). No hay regla universal para elegir $S$, y en la práctica se suelen usar $S=\\{5,10\\}$ que son considerados buenas opciones gracias a resultados empíricos(1), nosotros usaremos un $S = 5$ para nuestro problema teniéndo en cuenta que podemos obtener una ganancia de velocidad que si lo hacemos con $S = 10$ que es un aspecto importante ya que estamos usando modelos como MLP que gracias a su arquitectura necesitan mucho tiempo de cómputo para converger.\n",
        "\n",
        "> (1) Page 184, An Introduction to Statistical Learning, 2013.\n",
        ">\n",
        "> (2) https://scikit-learn.org/stable/_images/grid_search_cross_validation.png"
      ],
      "metadata": {
        "id": "xSCMrcrhx7Po"
      }
    },
    {
      "cell_type": "code",
      "source": [
        "def cross_val(model, X, y, folds, score):\n",
        "\n",
        "    # Crear el objeto K-fold\n",
        "    kfold = KFold(\n",
        "        n_splits=folds, # Número de particiones (folds)\n",
        "        random_state=None, # No establecemos semilla para no conservar un estado concreto y\n",
        "                           # tener un estado completamente aleatorio\n",
        "        shuffle=True #Desordenar por clases antes de particionar el conjunto\n",
        "    )\n",
        "\n",
        "    # Realizar validación cruzada y devolver los resultados.\n",
        "    # Especificamos paralelismo de nivel 5 para obtener ganancia en velocidad\n",
        "    return cross_validate(model, X=X, y=y, cv=kfold, scoring=score, n_jobs=5)"
      ],
      "metadata": {
        "id": "6W1wqVe0PTs1"
      },
      "execution_count": null,
      "outputs": []
    },
    {
      "cell_type": "markdown",
      "source": [
        "#### Selección de mejores hiperparámetros - _Grid Search_\n",
        "\n",
        "Ya que tenemos definido la técnica que usaremos para entrenar y evaluar un modelo, pasamos a definir el método que usaremos para elegir la mejor configuración de hiperparámetros para un modelo concreto.\n",
        "\n",
        "Optaremos en nuestro caso por una técnica ampliamente usada para este tipo de selección y es la técnica de _grid search_. _Grid search_ es una de las muchas técnicas para optimizar hiperparámetros de un modelo, lo que también se denomina _hyperparameter tuning_.\n",
        "\n",
        "Esta técnica en su versión más simple consiste en entrenar y evaluar un modelo (en nuestro caso usando _Cross Validation_) con una serie de hiperparámetros  tal que cada hiperparámetro tenga un conjunto de valores previamente seleccionados; luego, mediante una búsqueda exhaustiva, se obtienen las métricas de cada una de las posibles combinaciones de hiperparámetros obteniendo finalmente un _ranking_ donde elegiremos la configuración con mejores métricas.\n",
        "\n",
        "Aunque Grid Search permite obtener la mejor configuración de hiperparámetros, nosotros usaremos _grid search_ de manera individual para cada hiperparámetro, es decir, un proceso de _grid search_ uni-dimensional (_grid_ de solo un hiperparámetro) usando un modelo de base (por ejemplo, usando los hiperparámetros por defecto). De esta manera podemos seleccionar el mejor conjunto de hiperparámetros sin dependencia entre hiperparámetros, es decir, seleccionar los mejores que optimicen un modelo por sí solos."
      ],
      "metadata": {
        "id": "CdTwi09GIfDX"
      }
    },
    {
      "cell_type": "code",
      "source": [
        "def single_grid_search_cv(model, X, y, hyper, values, folds, score):\n",
        "    # Realizamos una copia del modelo para reutilizar el original\n",
        "    m = clone(model)\n",
        "\n",
        "    # Busqueda exhaustiva de los valores del hiperparametro\n",
        "    scores = []\n",
        "    for v in values:\n",
        "        # Establecemos el valor del hiperparametro\n",
        "        params = { hyper: v }\n",
        "        m.set_params(**params)\n",
        "\n",
        "        # Evaluamos el modelo\n",
        "        results = cross_val(m, X, y, folds=folds, score=score)\n",
        "\n",
        "        # marco el valor concreto del hiperparametro\n",
        "        results[hyper] = str(v)\n",
        "\n",
        "        # agregamos los resultados a los globales\n",
        "        scores.append(results)\n",
        "\n",
        "\n",
        "    # Devolver el DataFrame con los resultados\n",
        "    df = pd.DataFrame(scores).drop(columns=['fit_time', 'score_time'])\n",
        "\n",
        "    # Pongo la columna con el valor del hiperparametro al inicio\n",
        "    df = df[[df.columns[-1]] + list(df.columns[:-1])]\n",
        "\n",
        "    return df"
      ],
      "metadata": {
        "id": "Ai1uXG-yNa_z"
      },
      "execution_count": null,
      "outputs": []
    },
    {
      "cell_type": "markdown",
      "source": [
        "#### Selección del mejor modelo\n",
        "\n",
        "La selección del mejor modelo es el proceso de selección final donde se escogerá el mejor modelo de clasificación $g$ que usaremos posteriormente para la evaluación con el conjunto de test. Primero se obtienen los tres modelos resultantes de haber optimizado sus mejores hiperparámetros y que hemos definido anteriormente con el método _grid search_, estos tres mejores modelos RL, SVM-soft y MLP son los denominados __modelos finalistas__. A continuación, tomaremos los modelos finalistas y les aplicaremos _Cross Validation_ una vez más, obteniendo sus respectivos puntajes; el modelo con puntaje más alto será nuestro modelo final.\n",
        "\n",
        "El ajuste $g$ final será el resultado de entrenar el mejor modelo con el conjunto de training completo $\\mathcal D_{train}$; el error que obtengamos con este $g$ dentro de la muestra es desconocido, sin embargo, sabemos que debe ser menor que $E_{val}$ al ser entrenado con un número mayor de ejemplos, por lo que esto no afecta a nuestra decisión de selección."
      ],
      "metadata": {
        "id": "LPOGjotdXV1B"
      }
    },
    {
      "cell_type": "markdown",
      "source": [
        "#### Modelo de puntaje - _model scoring_\n",
        "\n",
        "El último apunte acerca del enfoque que seguiremos para el proceso de selección de modelos es el puntaje o _scoring_ que usaremos para evaluar y comparar cada modelo, en efecto, definir nuestro criterio de selección.\n",
        "\n",
        "Previamente habíamos definido las métricas relevantes que íbamos a usar para poder medir el rendimiento de un modelo, que eran: el _Accuracy_, el _Hamming Loss_ y el _F1-Score_. Aunque pudieramos comprender las tres para evaluar un modelo, lo cierto es que resulta en una tarea muy poco sistemática y poco controlada y manejable, sin embargo, nosotros optaremos por un _score_ mucho más sencillo y que comprende estas tres métricas y es una suma ponderada de estas tres:\n",
        "$$\\alpha_1 \\cdot Acc + \\alpha_2 \\cdot Spec + \\alpha_3 \\cdot \\text{F1}$$\n",
        "\n",
        "De esta manera, podemos definir los coeficientes $\\alpha_i$ según que métricas resultan más importantes o con más peso a la hora de elegir un modelo u otro. Por tanto definiremos estos coeficientes tomándo en cuenta lo siguiente:\n",
        "- Sabemos que las clases de nuestro conjunto de entrenamiento no tienen algún tipo de desbalanceo importante, por lo que realmente la medición de la _accuracy_ resulta una buena métrica en este caso para comparar los modelos, ya que al estar las clases aproximadamente equitativamente bien representadas entonces un modelo con un _accuracy_ muy alto significa un modelo que está clasificando la mayoría de los ejemplos correctamente y no porque sea una clase mayoritaria. Por tanto, a esta métrica le daremos un peso importante.\n",
        "- Por otro lado, el F1-Score es una métrica que combina el _Precision_ y el _Recall_ en una sola métrica, por tanto, resulta útil cuando queremos evitar la sobreestimación o subestimación de los errores en la clasificación. En nuestro caso, los errores en clasificación de caracteres manuscritos no son tan relevantes como lo son los aciertos, sobre todo en clasificación multietiqueta donde la clasificación de no pertenencia de una clase es casi una forma de comportamiento por defecto, ya que la gran mayoría de clases responderan negativamente a la pertenencia del ejemplo a ellas y solo una responderá positivamente; por lo que nos interesa elegir un modelo a partir de que tan bien clasifica un ejemplo. Por tanto, al F1-Score tendrá un peso más bien bajo.\n",
        "- Finalmente, la especificidad mide que tan bien clasifica los casos negativos, en sí el caso es muy similar al de F1-Score, donde nos interesa más premiar los modelos que acierten mejor, por lo que este tendrá un peso muy similar al F1-Score.\n",
        "\n",
        "Por tanto, podemos asignar unos valores aproximados según las consideraciones de cada métrica con el problema al que nos enfrentamos. Por lo que proporcionamos la siguiente asignación:\n",
        "$$\\text{Score}(h) = 0.7 \\cdot Acc(h) + 0.15 \\cdot Spec(h) + 0.15\\cdot F1(h)$$\n",
        "\n",
        "Implementamos la función para este _score_ usando los _helpers_ de `scikit-learn` y que aceptan estos parámetros:\n",
        "\n",
        "- `y_true`: son los valores de salida reales, es decir que es igual a $f(\\text{x})$\n",
        "- `y_pred`: son los valores de predicción del modelo, es decir, $h_{\\text{w}}(\\text{x})$\n",
        "\n",
        "Sin embargo, el _specificity_ la sacaremos de la matriz de confusión ya que no viene definida en esta librería"
      ],
      "metadata": {
        "id": "RZJSIPRMXaAS"
      }
    },
    {
      "cell_type": "code",
      "source": [
        "# Creamos una funcion que mida el specificity con la matriz de confusion para clasificacion multietiqueta\n",
        "def specificity_score_multiclass(y_true, y_pred, class_label):\n",
        "    # Calcula la matriz de confusión para la clase específica y las demás clases\n",
        "    true_class = (y_true == class_label)\n",
        "    predicted_class = (y_pred == class_label)\n",
        "    TN, FP, FN, TP = confusion_matrix(true_class, predicted_class).ravel()\n",
        "\n",
        "    # Calcula la especificidad para la clase específica\n",
        "    specificity = TN / (TN + FP)\n",
        "\n",
        "    return specificity\n",
        "\n",
        "def specificity_score(y_true, y_pred, **kwargs):\n",
        "    # Calcula la especificidad promediada para todas las clases\n",
        "    num_classes = len(set(y_true))\n",
        "    specificity_total = 0.0\n",
        "\n",
        "    # Calculamos el promedio de specificity de cada clase\n",
        "    for class_label in range(num_classes):\n",
        "        specificity_total += specificity_score_multiclass(y_true, y_pred, class_label)\n",
        "\n",
        "    specificity_avg = specificity_total / num_classes\n",
        "    return specificity_avg\n",
        "\n",
        "# Creamos una función score customizada\n",
        "def model_score(y_true, y_pred):\n",
        "\treturn 0.7*accuracy_score(y_true, y_pred) + 0.15*specificity_score(y_true, y_pred) + 0.15*f1_score(y_true, y_pred, average='macro')\n",
        "\n",
        "# Creamos una instancia de la metrica\n",
        "scorer = make_scorer(model_score)"
      ],
      "metadata": {
        "id": "YJBKGbTWORSh"
      },
      "execution_count": null,
      "outputs": []
    },
    {
      "cell_type": "markdown",
      "source": [
        "Este puntaje es el que usaremos para poder evaluar con el criterio mostrado los modelos que se nos presenten."
      ],
      "metadata": {
        "id": "azDx52RGPNfI"
      }
    },
    {
      "cell_type": "markdown",
      "source": [
        "## Entrenamiento y evaluación de modelos en training\n",
        "\n",
        "Empezamos entonces a realizar el ajuste, evaluación y comparación de los modelos a disposición para la elección del mejor modelo con el enfoque que hemos descrito anteriormente. El procedimiento lo dividiremos en estos subprocedimientos:\n",
        "- Tratamiento del conjunto de training con la _pipeline_ de transformaciones y preprocesado.\n",
        "- Obtención de los modelos finalistas. Elección de mejores hiperparámetros (_grid search_ con _grid_ uni-dimensional para cada parámetro) y selección de mejor técnica de regularización para cada modelo.\n",
        "- Selección del mejor modelo $g^{*}$. Ajuste final del mejor modelo $g$ con $\\mathcal D_{train}$.\n",
        "- Evaluación del mejor ajuste $g$ con $\\mathcal D_{test}$. Preprocesado del conjunto $\\mathcal D_{test}$. Obtención de del error $E_{out}$ estimado."
      ],
      "metadata": {
        "id": "SLc7zP42-k4W"
      }
    },
    {
      "cell_type": "markdown",
      "source": [
        "#### Preprocesado del conjunto de train $\\mathcal D_{train}$\n",
        "\n",
        "Realizamos la siguiente _pipeline_ de transformaciones sobre los datos de train para el entrenamiento: escalado y normalización de los datos, obtención del descriptor de características HOG.\n",
        "\n",
        "La razón por la cual obtendremos los datos normalizados antes de obtener el descriptor HOG es porque, aunque este escalado no se verá reflejado en las _features_ finales, la realidad es que tener un conjunto normalizado de valores hace que la obtención de los gradientes en HOG sea mucho más eficiente y estable, reduciendo la posibilidad de variaciones altas en los valores de las imágenes y dificultando la obtención del descriptor.\n",
        "\n",
        "Nosotros no realizaremos un escalado de los valores posterior a HOG, esto debido a que HOG realiza una normalización específica para cada atributo, por tanto, no es necesario un reescalado de estos atributos."
      ],
      "metadata": {
        "id": "aV4Af6O5CF60"
      }
    },
    {
      "cell_type": "code",
      "source": [
        "# obtenemos los valores máximos y mínimos de las features en training como constantes\n",
        "MIN_VALUES_TRAIN = X_train.min(axis=0)\n",
        "MAX_VALUES_TRAIN = X_train.max(axis=0)\n",
        "\n",
        "# Normalizamos el conjunto de train\n",
        "X_train_proc = min_max_scaling(X_train, MIN_VALUES_TRAIN, MAX_VALUES_TRAIN)\n",
        "\n",
        "# Obtenemos el descriptor de caracteristicas HOG como nuestro nuevo conjunto de datos\n",
        "X_train_proc = extract_features(X_train_proc)\n",
        "\n",
        "X_train_proc.shape"
      ],
      "metadata": {
        "colab": {
          "base_uri": "https://localhost:8080/"
        },
        "id": "43-70rhGD1iO",
        "outputId": "f3ec4141-fea1-4cd8-85c9-1deee2c0e117"
      },
      "execution_count": null,
      "outputs": [
        {
          "output_type": "execute_result",
          "data": {
            "text/plain": [
              "(64400, 64)"
            ]
          },
          "metadata": {},
          "execution_count": 93
        }
      ]
    },
    {
      "cell_type": "markdown",
      "source": [
        "#### Obtención de los modelos finalistas\n",
        "\n",
        "Teniéndo el conjunto preprocesado y listo para poder ajustar, pasamos a elegir los mejores hiperparámetros. Como hemos dicho, usaremos la técnica de _grid search_ para una búsqueda exhaustiva de los mejores hiperparámetros de forma individual basándonos en un modelo base de prueba, que hemos dicho que serían los modelos por defecto de `scikit-learn`. En el proceso de selección de hiperparámetros por modelo definiremos lo siguiente: el algoritmo de aprendizaje $\\mathcal A$ del modelo concreto, regularización a usar y el subconjunto de valores para cada hiperparámetro."
      ],
      "metadata": {
        "id": "tnxLOJSzU2vD"
      }
    },
    {
      "cell_type": "markdown",
      "source": [
        "##### __Regresión Logística__\n",
        "\n",
        "Para el modelo de RL usaremos el algoritmo de optimización _Stochastic Gradient Descent_ o SGD como el algoritmo de aprendizaje $\\mathcal A_{RL}$. Elegimos este algoritmo ya que se caracteríza por ser un algoritmo muy rápido y que evita el ajuste del modelo a la muestra de entrenamiento por su carácter estocástico, a diferencia de como pasa con el _Batch Gradient Descent_ convencional. Además, al tomar en cuenta un subconjunto menor de ejemplares por cada iteración, es muy adecuado para datasets muy grandes, como es nuestro caso.\n",
        "\n",
        "Ahora definimos la regularización a usar, en el que tenemos dos aproximaciones que ofrecen distintas ventajas sobre la otra. Existen dos grandes tipos de regularización los cuales son L1 y L2. Regularización L1 también denominada LASSO, es un tipo de regularización (Least Absolute Shrinkage and Selection Operator) que consiste en la selección automática de los pesos, es decir, lleva implícito reducción de dimensionalidad lo cual ya hemos visto que mejora la generalización del modelo y por tanto funciona como método de regularización. LASSO se basa en la norma L1 (también llamada norma Manhattan) de los coeficientes (pesos) $||\\text{w}||_1$, la variable de penalización $\\lambda$ implica la reducción de las magnitudes de los coeficientes a $0$, con esto consigue una selección de las características que son importantes para ajustar el modelo; cuando $\\lambda$ es mayor entonces la restricción es más fuerte y tiende a una mayor reducción de los pesos. Este método es usualmente elegido cuando la dimensionalidad del problema es muy alto y se requiere de una selección de características para reducir dimensionalidad.\n",
        "$$\\sum_{q=0}^{Q}{|w_q|} \\le C$$\n",
        "\n",
        "Por otro lado, la regularización L2 se basa en la norma L2 también denominada norma Euclídea, que son las sumas de los pesos al cuadrado $||\\text{w}||_2$, el detalle del que sea al cuadrado que al aplicar el término de penalización $\\lambda$ se penalicen más los coeficientes que son mayores, por lo que consigue lo mismo que L1, que es reducir la dimensionalidad pero de una manera más suave, no tratando todos los coeficientes por igual sino penalizando los que son más altos, esto reduce la complejidad del problema ya que valores altos de $w$ tienden a una clase de funciones $\\mathcal H$ más amplia, mientras que si restringimos a valores de $w$ más bajos la clase de funciones se restringe resultando en un $\\mathcal H$ mucho más sencillo, además, al priorizar los pesos con menos magnitud se consiguen ajustes muy suaves que evitan el ajuste de ruido (Overfitting). Esta técnica es usada cuando la dimensionalidad del problema no es grave y se sabe que todas las las características son importantes (_feature selection_ menos acusada).\n",
        "$$\\sum_{q=0}^{Q}{w_q^2} \\le C$$\n",
        "\n",
        "En conclusión, L1 (LASSO) es útil cuando se desea realizar una reducción de dimensionalidad porque se sabe (o se sospecha) que hay características irrelevantes. Mientras que L2 es útil para obtener una mejor generalización y se quiere reducir lo máximo posible el Overfitting del modelo mientras se mantienen todas las características (poca reducción). En nuestro caso, el caso de reducir características nos perjudica ya que estaríamos eliminando información importante de un conjunto de atributos que previamente se han extraído mediante un proceso de extracción de características (HOG en nuestro caso), por tanto no tiene mucho sentido usar regularización L1 que sirve mejor cuando se quiere realizar una extracción o selección de características. Por tanto optaremos por usar una regularización L2 (Ridge) que realiza una reducción mucho más suave mientras se consigue la mejor generalización posible.\n",
        "\n",
        "En cuanto a los hiperparámetros a considerar así como el subconjunto de valores (_grid_) que consideraremos son los que comentaremos a continuación junto con la implementación del clasificador que usaremos. El clasificador que usaremos será la clase de `scikit-learn` `SGDClassifier` que toma los siguientes parámetros e hiperparámetros:\n",
        "- `eta0` ($\\eta_0$): es la tasa de aprendizaje inicial usada en la ecuación general del descenso del gradiente estocástico. Las medidas más usuales para este parámetro son valores menores o iguales que $1$ los cuales podemos considerar $(0.001, 0.01, 0.1)$, estos valores de _learning rate_ suelen ser los más usuales por tener un rendimiento en la práctica muy bueno. Nosotros en este experimento nos limitaremos a que el learning rate sea __constante__ y no dinámico, es decir, $\\eta=\\eta_0$, por simplicidad en la elección de los distintos parámetros del _grid_ aunque podría ser una opción de cambio si observamos que la función de perdida tiene una forma no convexa más caótica y por tanto requeriríamos de una tasa mucho más compleja.\n",
        "- `alpha`: es el término de regularización, en nuestro caso L2, y es el parámetro que controla la intensidad de la regularización en el ajuste. En la literatura se le suele denominar $\\lambda$. Nosotros usaremos los valores de $(0.01, 0.001, 0.0001)$ ya que valores de $λ$ mayores suelen empeorar la generalización del modelo (1), por tanto consideraremos valores más bien bajos.\n",
        "- `max_iter`: es el máximo de iteraciones que SGD puede realizar en el entrenamiento. En este caso depende mucho de la cantidad de ejemplos a disposición, como SGD opera aleatoriamente sobre todo el dataset, tenemos que garantizar de alguna manera que se puedan considerar todos los ejemplos. A priori pondremos un solo valor de $20$ iteraciones que podemos ir graduando a nuestro gusto hasta un límite como puede ser, que se cumpla el criterio de parada y no consuma todas las iteraciones, aunque esto será necesario solo si no conseguimos un buen ajuste. La razón de un máximo de épocas tan bajo es por la dimensión de la muestra que contiene un $N$ muy elevado y puede tardar mucho en dar una solución.\n",
        "- `tol`: es la tolerancia del criterio de parada, es decir, cuando considera el algoritmo que ha convergido; el valor depende del problema en cuestión, si `tol` es muy grande entonces el algoritmo terminará mucho antes mientras que si es muy pequeño, durará más en converger y se necesitará más precisión del algoritmo para que converja. En nuestro caso optarémos por una tolerancia de $10^{-3}$ que parece un valor razonable para poder garantizar cierta precisión en la convergencia del algoritmo.\n",
        "-`epsilon`: es el umbral de error mínimo. En este caso podemos optar por una error un poco impaciente al principio de $0.1$ y lo iremos bajando hasta que veamos que ya no converge si es necesario, aunque un error aproximadamente de esta magnitud suele ser lo usual.\n",
        "- `penalty`: indica el tipo de regularización que usaremos, usaremos regularización `'l2'` como hemos dicho antes.\n",
        "- `loss`: indica la función de perdida. Este parámetro define el modelo concreto de clasificación que usaremos, nosotros especificamos la función de perdida `'log_loss'` que es la función de _Cross Entropy_ que hemos definido anteriormente para RL.\n",
        "- `shuffle`: Indica si se quiere realizar una aleatorización del conjunto de datos por cada época, para aprovechar las características positivas de la aleatorización en SGD como habíamos comentado, indicaremos un valor de `True` para este parámetro.\n",
        "\n",
        "> (1) Yaser S. Abu-Mostafa, Malik Magdon-Ismail, and Hsuan-Tien Lin. 2012. Learning From Data. AMLBook. pag 134."
      ],
      "metadata": {
        "id": "jHQ8QQyaBJVr"
      }
    },
    {
      "cell_type": "code",
      "source": [
        "# Definimos los hiperparametros y sus valores así como los parámetros fijos a usar\n",
        "lrs = [0.001, 0.01, 0.1]\n",
        "alphas = [0.0001, 0.001, 0.01]\n",
        "max_iter = 20\n",
        "tol = 1e-3\n",
        "epsilon = 0.1\n",
        "\n",
        "# Definimos un modelo base de RL con valores de hiperparametros por defecto\n",
        "base_model = SGDClassifier(\n",
        "    loss='log_loss',\n",
        "    penalty='l2',\n",
        "    max_iter=max_iter,\n",
        "    shuffle=True,\n",
        "    learning_rate='constant', # Determinar que el learning rate es constante\n",
        "    tol=tol,\n",
        "    epsilon=epsilon\n",
        ")\n",
        "\n",
        "# Definimos las metricas que usaremos: Accuracy, Specificity, F1-Score, Metrica ponderada\n",
        "scoring = {\n",
        "    'accuracy': 'accuracy',\n",
        "    'specificity': make_scorer(specificity_score, average='macro'),\n",
        "    'f1': make_scorer(f1_score, average='macro'), # utilizo la opción average='macro' ya que estamos ante un problema\n",
        "                                                  # de clasificacion multiclase donde las clases estan aprox. equilibradas\n",
        "                                                  # por lo que se calcula un promedio global sobre las clases sin tener en cuenta\n",
        "                                                  # el desequilibrio\n",
        "    'rank_score': scorer\n",
        "}\n",
        "\n",
        "# ejecutamos grid search sobre el learning rate inicial\n",
        "scores = single_grid_search_cv(model=base_model, X=X_train_proc, y=Y_train, hyper='eta0', values=lrs, folds=5, score=scoring)\n",
        "\n",
        "# obtengo las medias de los resultados\n",
        "scores_arr = scores.to_numpy()\n",
        "scores_arr_means = np.array([np.mean(x) for x in scores_arr[:, 1:].flatten()]).reshape(len(lrs),4)\n",
        "np.hstack((scores_arr[:, 0].reshape(-1,1), scores_arr_means))\n",
        "scores = pd.DataFrame(np.hstack((scores_arr[:, 0].reshape(-1,1), scores_arr_means)), columns=scores.columns, index=scores.index)\n",
        "\n",
        "scores"
      ],
      "metadata": {
        "colab": {
          "base_uri": "https://localhost:8080/",
          "height": 143
        },
        "id": "9e3BD7XJOIlu",
        "outputId": "5aebcc74-695f-413e-e687-f0c608e80248"
      },
      "execution_count": null,
      "outputs": [
        {
          "output_type": "execute_result",
          "data": {
            "text/plain": [
              "    eta0 test_accuracy test_specificity   test_f1 test_rank_score\n",
              "0  0.001      0.670947         0.992688  0.668421        0.718829\n",
              "1   0.01      0.699317         0.993319  0.697829        0.743194\n",
              "2    0.1      0.666506         0.992589  0.666378        0.715399"
            ],
            "text/html": [
              "\n",
              "  <div id=\"df-d9f412f6-63c3-45f8-81be-1994aa2de56e\">\n",
              "    <div class=\"colab-df-container\">\n",
              "      <div>\n",
              "<style scoped>\n",
              "    .dataframe tbody tr th:only-of-type {\n",
              "        vertical-align: middle;\n",
              "    }\n",
              "\n",
              "    .dataframe tbody tr th {\n",
              "        vertical-align: top;\n",
              "    }\n",
              "\n",
              "    .dataframe thead th {\n",
              "        text-align: right;\n",
              "    }\n",
              "</style>\n",
              "<table border=\"1\" class=\"dataframe\">\n",
              "  <thead>\n",
              "    <tr style=\"text-align: right;\">\n",
              "      <th></th>\n",
              "      <th>eta0</th>\n",
              "      <th>test_accuracy</th>\n",
              "      <th>test_specificity</th>\n",
              "      <th>test_f1</th>\n",
              "      <th>test_rank_score</th>\n",
              "    </tr>\n",
              "  </thead>\n",
              "  <tbody>\n",
              "    <tr>\n",
              "      <th>0</th>\n",
              "      <td>0.001</td>\n",
              "      <td>0.670947</td>\n",
              "      <td>0.992688</td>\n",
              "      <td>0.668421</td>\n",
              "      <td>0.718829</td>\n",
              "    </tr>\n",
              "    <tr>\n",
              "      <th>1</th>\n",
              "      <td>0.01</td>\n",
              "      <td>0.699317</td>\n",
              "      <td>0.993319</td>\n",
              "      <td>0.697829</td>\n",
              "      <td>0.743194</td>\n",
              "    </tr>\n",
              "    <tr>\n",
              "      <th>2</th>\n",
              "      <td>0.1</td>\n",
              "      <td>0.666506</td>\n",
              "      <td>0.992589</td>\n",
              "      <td>0.666378</td>\n",
              "      <td>0.715399</td>\n",
              "    </tr>\n",
              "  </tbody>\n",
              "</table>\n",
              "</div>\n",
              "      <button class=\"colab-df-convert\" onclick=\"convertToInteractive('df-d9f412f6-63c3-45f8-81be-1994aa2de56e')\"\n",
              "              title=\"Convert this dataframe to an interactive table.\"\n",
              "              style=\"display:none;\">\n",
              "        \n",
              "  <svg xmlns=\"http://www.w3.org/2000/svg\" height=\"24px\"viewBox=\"0 0 24 24\"\n",
              "       width=\"24px\">\n",
              "    <path d=\"M0 0h24v24H0V0z\" fill=\"none\"/>\n",
              "    <path d=\"M18.56 5.44l.94 2.06.94-2.06 2.06-.94-2.06-.94-.94-2.06-.94 2.06-2.06.94zm-11 1L8.5 8.5l.94-2.06 2.06-.94-2.06-.94L8.5 2.5l-.94 2.06-2.06.94zm10 10l.94 2.06.94-2.06 2.06-.94-2.06-.94-.94-2.06-.94 2.06-2.06.94z\"/><path d=\"M17.41 7.96l-1.37-1.37c-.4-.4-.92-.59-1.43-.59-.52 0-1.04.2-1.43.59L10.3 9.45l-7.72 7.72c-.78.78-.78 2.05 0 2.83L4 21.41c.39.39.9.59 1.41.59.51 0 1.02-.2 1.41-.59l7.78-7.78 2.81-2.81c.8-.78.8-2.07 0-2.86zM5.41 20L4 18.59l7.72-7.72 1.47 1.35L5.41 20z\"/>\n",
              "  </svg>\n",
              "      </button>\n",
              "      \n",
              "  <style>\n",
              "    .colab-df-container {\n",
              "      display:flex;\n",
              "      flex-wrap:wrap;\n",
              "      gap: 12px;\n",
              "    }\n",
              "\n",
              "    .colab-df-convert {\n",
              "      background-color: #E8F0FE;\n",
              "      border: none;\n",
              "      border-radius: 50%;\n",
              "      cursor: pointer;\n",
              "      display: none;\n",
              "      fill: #1967D2;\n",
              "      height: 32px;\n",
              "      padding: 0 0 0 0;\n",
              "      width: 32px;\n",
              "    }\n",
              "\n",
              "    .colab-df-convert:hover {\n",
              "      background-color: #E2EBFA;\n",
              "      box-shadow: 0px 1px 2px rgba(60, 64, 67, 0.3), 0px 1px 3px 1px rgba(60, 64, 67, 0.15);\n",
              "      fill: #174EA6;\n",
              "    }\n",
              "\n",
              "    [theme=dark] .colab-df-convert {\n",
              "      background-color: #3B4455;\n",
              "      fill: #D2E3FC;\n",
              "    }\n",
              "\n",
              "    [theme=dark] .colab-df-convert:hover {\n",
              "      background-color: #434B5C;\n",
              "      box-shadow: 0px 1px 3px 1px rgba(0, 0, 0, 0.15);\n",
              "      filter: drop-shadow(0px 1px 2px rgba(0, 0, 0, 0.3));\n",
              "      fill: #FFFFFF;\n",
              "    }\n",
              "  </style>\n",
              "\n",
              "      <script>\n",
              "        const buttonEl =\n",
              "          document.querySelector('#df-d9f412f6-63c3-45f8-81be-1994aa2de56e button.colab-df-convert');\n",
              "        buttonEl.style.display =\n",
              "          google.colab.kernel.accessAllowed ? 'block' : 'none';\n",
              "\n",
              "        async function convertToInteractive(key) {\n",
              "          const element = document.querySelector('#df-d9f412f6-63c3-45f8-81be-1994aa2de56e');\n",
              "          const dataTable =\n",
              "            await google.colab.kernel.invokeFunction('convertToInteractive',\n",
              "                                                     [key], {});\n",
              "          if (!dataTable) return;\n",
              "\n",
              "          const docLinkHtml = 'Like what you see? Visit the ' +\n",
              "            '<a target=\"_blank\" href=https://colab.research.google.com/notebooks/data_table.ipynb>data table notebook</a>'\n",
              "            + ' to learn more about interactive tables.';\n",
              "          element.innerHTML = '';\n",
              "          dataTable['output_type'] = 'display_data';\n",
              "          await google.colab.output.renderOutput(dataTable, element);\n",
              "          const docLink = document.createElement('div');\n",
              "          docLink.innerHTML = docLinkHtml;\n",
              "          element.appendChild(docLink);\n",
              "        }\n",
              "      </script>\n",
              "    </div>\n",
              "  </div>\n",
              "  "
            ]
          },
          "metadata": {},
          "execution_count": 94
        }
      ]
    },
    {
      "cell_type": "markdown",
      "source": [
        "Podemos observar que el _learning rate_ con mejor puntaje es $\\eta = 0.01$. Podemos ver también que en cuanto a la especificidad, en todos los casos se tienen valores muy altos, aquí podemos comprobar lo que decíamos acerca de la clasificación negativa de las clases, en el que al ser un problema de clasificación multiclase los verdaderos negativos serán muy altos ya que un ejemplo solo pertenece a una de las $46$ clases existentes. En cuanto al F1-Score podemos observar que obtenemos en la mayoría de los casos un puntaje bueno siendo el mayor aproximadamente $0.7$ de score, esto nos indica que en general estamos obteniendo un modelo con buena precisión y buena exhaustividad (_recall_). Finalmente en cuanto al _accuracy_, en general estamos obteniendo buenas predicciones de nuestro modelo, con casi un $70\\%$ de ejemplos bien clasificados en el caso del mejor.\n",
        "\n",
        "En cuanto al mejor _learning rate_ concluimos que tenemos $0.01$ como mejor tasa de aprendizaje para RL por tener mejor puntaje según nuestro criterio establecido."
      ],
      "metadata": {
        "id": "nOIttsHd5Uym"
      }
    },
    {
      "cell_type": "markdown",
      "source": [
        "Hacemos el mismo experimento pero ahora queriéndo conseguir el mejor término de regularización $λ$. En este caso tenemos que optar por el valor por defecto del _learning rate_, ya que si es constante, debemos de especificar uno concreto, así que dejamos el valor por defecto para que no sea dependiente de un _learning rate_ concreto."
      ],
      "metadata": {
        "id": "_bW2Otfq7mAw"
      }
    },
    {
      "cell_type": "code",
      "source": [
        "# Definimos un modelo base de RL con valores de hiperparametros por defecto\n",
        "base_model = SGDClassifier(\n",
        "    loss='log_loss',\n",
        "    penalty='l2',\n",
        "    max_iter=max_iter,\n",
        "    shuffle=True,\n",
        "    tol=tol,\n",
        "    epsilon=epsilon\n",
        ")\n",
        "\n",
        "# ejecutamos grid search sobre el término de regularización\n",
        "scores = single_grid_search_cv(model=base_model, X=X_train_proc, y=Y_train, hyper='alpha', values=alphas, folds=5, score=scoring)\n",
        "\n",
        "# obtengo las medias de los resultados\n",
        "scores_arr = scores.to_numpy()\n",
        "scores_arr_means = np.array([np.mean(x) for x in scores_arr[:, 1:].flatten()]).reshape(len(alphas),4)\n",
        "np.hstack((scores_arr[:, 0].reshape(-1,1), scores_arr_means))\n",
        "scores = pd.DataFrame(np.hstack((scores_arr[:, 0].reshape(-1,1), scores_arr_means)), columns=scores.columns, index=scores.index)\n",
        "\n",
        "scores"
      ],
      "metadata": {
        "colab": {
          "base_uri": "https://localhost:8080/",
          "height": 143
        },
        "id": "HuU2h8YR8T2p",
        "outputId": "8411af48-9fa1-47e0-a845-88ff90518490"
      },
      "execution_count": null,
      "outputs": [
        {
          "output_type": "execute_result",
          "data": {
            "text/plain": [
              "    alpha test_accuracy test_specificity   test_f1 test_rank_score\n",
              "0  0.0001      0.713913         0.993643  0.711418        0.755498\n",
              "1   0.001      0.684845         0.992997  0.681473        0.730562\n",
              "2    0.01      0.584224         0.990761  0.565436        0.642386"
            ],
            "text/html": [
              "\n",
              "  <div id=\"df-700b3217-c951-44e8-be2b-42ff866117ce\">\n",
              "    <div class=\"colab-df-container\">\n",
              "      <div>\n",
              "<style scoped>\n",
              "    .dataframe tbody tr th:only-of-type {\n",
              "        vertical-align: middle;\n",
              "    }\n",
              "\n",
              "    .dataframe tbody tr th {\n",
              "        vertical-align: top;\n",
              "    }\n",
              "\n",
              "    .dataframe thead th {\n",
              "        text-align: right;\n",
              "    }\n",
              "</style>\n",
              "<table border=\"1\" class=\"dataframe\">\n",
              "  <thead>\n",
              "    <tr style=\"text-align: right;\">\n",
              "      <th></th>\n",
              "      <th>alpha</th>\n",
              "      <th>test_accuracy</th>\n",
              "      <th>test_specificity</th>\n",
              "      <th>test_f1</th>\n",
              "      <th>test_rank_score</th>\n",
              "    </tr>\n",
              "  </thead>\n",
              "  <tbody>\n",
              "    <tr>\n",
              "      <th>0</th>\n",
              "      <td>0.0001</td>\n",
              "      <td>0.713913</td>\n",
              "      <td>0.993643</td>\n",
              "      <td>0.711418</td>\n",
              "      <td>0.755498</td>\n",
              "    </tr>\n",
              "    <tr>\n",
              "      <th>1</th>\n",
              "      <td>0.001</td>\n",
              "      <td>0.684845</td>\n",
              "      <td>0.992997</td>\n",
              "      <td>0.681473</td>\n",
              "      <td>0.730562</td>\n",
              "    </tr>\n",
              "    <tr>\n",
              "      <th>2</th>\n",
              "      <td>0.01</td>\n",
              "      <td>0.584224</td>\n",
              "      <td>0.990761</td>\n",
              "      <td>0.565436</td>\n",
              "      <td>0.642386</td>\n",
              "    </tr>\n",
              "  </tbody>\n",
              "</table>\n",
              "</div>\n",
              "      <button class=\"colab-df-convert\" onclick=\"convertToInteractive('df-700b3217-c951-44e8-be2b-42ff866117ce')\"\n",
              "              title=\"Convert this dataframe to an interactive table.\"\n",
              "              style=\"display:none;\">\n",
              "        \n",
              "  <svg xmlns=\"http://www.w3.org/2000/svg\" height=\"24px\"viewBox=\"0 0 24 24\"\n",
              "       width=\"24px\">\n",
              "    <path d=\"M0 0h24v24H0V0z\" fill=\"none\"/>\n",
              "    <path d=\"M18.56 5.44l.94 2.06.94-2.06 2.06-.94-2.06-.94-.94-2.06-.94 2.06-2.06.94zm-11 1L8.5 8.5l.94-2.06 2.06-.94-2.06-.94L8.5 2.5l-.94 2.06-2.06.94zm10 10l.94 2.06.94-2.06 2.06-.94-2.06-.94-.94-2.06-.94 2.06-2.06.94z\"/><path d=\"M17.41 7.96l-1.37-1.37c-.4-.4-.92-.59-1.43-.59-.52 0-1.04.2-1.43.59L10.3 9.45l-7.72 7.72c-.78.78-.78 2.05 0 2.83L4 21.41c.39.39.9.59 1.41.59.51 0 1.02-.2 1.41-.59l7.78-7.78 2.81-2.81c.8-.78.8-2.07 0-2.86zM5.41 20L4 18.59l7.72-7.72 1.47 1.35L5.41 20z\"/>\n",
              "  </svg>\n",
              "      </button>\n",
              "      \n",
              "  <style>\n",
              "    .colab-df-container {\n",
              "      display:flex;\n",
              "      flex-wrap:wrap;\n",
              "      gap: 12px;\n",
              "    }\n",
              "\n",
              "    .colab-df-convert {\n",
              "      background-color: #E8F0FE;\n",
              "      border: none;\n",
              "      border-radius: 50%;\n",
              "      cursor: pointer;\n",
              "      display: none;\n",
              "      fill: #1967D2;\n",
              "      height: 32px;\n",
              "      padding: 0 0 0 0;\n",
              "      width: 32px;\n",
              "    }\n",
              "\n",
              "    .colab-df-convert:hover {\n",
              "      background-color: #E2EBFA;\n",
              "      box-shadow: 0px 1px 2px rgba(60, 64, 67, 0.3), 0px 1px 3px 1px rgba(60, 64, 67, 0.15);\n",
              "      fill: #174EA6;\n",
              "    }\n",
              "\n",
              "    [theme=dark] .colab-df-convert {\n",
              "      background-color: #3B4455;\n",
              "      fill: #D2E3FC;\n",
              "    }\n",
              "\n",
              "    [theme=dark] .colab-df-convert:hover {\n",
              "      background-color: #434B5C;\n",
              "      box-shadow: 0px 1px 3px 1px rgba(0, 0, 0, 0.15);\n",
              "      filter: drop-shadow(0px 1px 2px rgba(0, 0, 0, 0.3));\n",
              "      fill: #FFFFFF;\n",
              "    }\n",
              "  </style>\n",
              "\n",
              "      <script>\n",
              "        const buttonEl =\n",
              "          document.querySelector('#df-700b3217-c951-44e8-be2b-42ff866117ce button.colab-df-convert');\n",
              "        buttonEl.style.display =\n",
              "          google.colab.kernel.accessAllowed ? 'block' : 'none';\n",
              "\n",
              "        async function convertToInteractive(key) {\n",
              "          const element = document.querySelector('#df-700b3217-c951-44e8-be2b-42ff866117ce');\n",
              "          const dataTable =\n",
              "            await google.colab.kernel.invokeFunction('convertToInteractive',\n",
              "                                                     [key], {});\n",
              "          if (!dataTable) return;\n",
              "\n",
              "          const docLinkHtml = 'Like what you see? Visit the ' +\n",
              "            '<a target=\"_blank\" href=https://colab.research.google.com/notebooks/data_table.ipynb>data table notebook</a>'\n",
              "            + ' to learn more about interactive tables.';\n",
              "          element.innerHTML = '';\n",
              "          dataTable['output_type'] = 'display_data';\n",
              "          await google.colab.output.renderOutput(dataTable, element);\n",
              "          const docLink = document.createElement('div');\n",
              "          docLink.innerHTML = docLinkHtml;\n",
              "          element.appendChild(docLink);\n",
              "        }\n",
              "      </script>\n",
              "    </div>\n",
              "  </div>\n",
              "  "
            ]
          },
          "metadata": {},
          "execution_count": 95
        }
      ]
    },
    {
      "cell_type": "markdown",
      "source": [
        "Como podemos observar en los resultados, el $\\lambda$ más bajo obtiene una tasa considerablemente mayor de clasificación, esto tiene sentido ya que el error aumentado establece que menores valores de $\\lambda$ corresponden a un suavizado de la restricción sobre los pesos\n",
        "$$E_{aug} = E_{in} + \\lambda \\text{w}^T\\text{w}$$\n",
        "\n",
        "Por tanto, es esperable que obtenga un error menor si reducimos la intensidad de regularización. Por lo que al mejor $\\lambda$ respecta elegiremos el que mayor _rank score_ ha sacado, que es $λ=0.0001$."
      ],
      "metadata": {
        "id": "cd63AwJYGKGV"
      }
    },
    {
      "cell_type": "markdown",
      "source": [
        "##### __SVM-soft__\n",
        "\n",
        "Ahora evaluaremos y elegiremos los mejores hiperparámetros para el modelo de SVM. Primero definiremos al igual que en RL, el algoritmo de aprendizaje $\\mathcal A_{SVM}$ que usaremos; optaremos por usar el algoritmo de programación cuadrática o (QP) que calcula los vectores soporte $\\alpha$ que definen el márgen máximo del hiperplano óptimo. Hemos optado por usar este algoritmo por ser menos sensible a la elección de hiperparámetros (como lo es SGD) y por proporcionar una solución exacta para los vectores soportes, a diferencia de nuevo con SGD, el cual es un algoritmo que aproxima a una solución que no se garantiza que sea óptima.\n",
        "\n",
        "En cuanto al tipo de regularización, al igual que con RL usaremos regularización de tipo L2 (Ridge) por los mismos motivos que con RL, puesto que en este caso queremos realizar una reducción suave y no tan brusca como lo hace L1 ya que consideramos que todos los atributos obtenidos en la extracción de características son igual de importantes. El parámetro de regularización por tanto es la restricción $C$, donde la fuerza o intensidad de regularización es inversamente proporcional a este parámetro. Este parámetro representa la cantidad de errores de clasificación que el ajuste es capaz de tolerar (formulación _soft_) y es el único hiperparámetro que consideraremos para este modelo.\n",
        "\n",
        "Para la implementación de este modelo usaremos la clase de `scikit-learn` `SVC` (_Support Vector Classifier_), que incluye la regularización L2 y que acepta los siguientes parámetros:\n",
        "\n",
        "- `C`: es el parametro de penalización o regularización. Nosotros usaremos una lista de estos parámetros razonables para este parámetros que someteremos a una búsqueda _grid search_ $\\{0.1, 1.0, 10\\}$. A diferencia de SGD donde el parametro de regularización lo manteniamos bajo, en este nos conviene variar entre valor altos y bajos ya que queremos explorar la flexibilidad de nuestro modelo frente a fuertes y flojas restricciones, en este caso, la penalización por error de clasificación. Este será el único hiperparámetro que vamos a tunear con _grid search_.\n",
        "- `kernel`: especifíca el _kernel_ que usaremos en el algoritmo. El _kernel_ es una función que nos ayuda en la obtención de productos escalares necesarios para la optimización de programación cuadrática desde otro espacio de las muestras, lo que nos permite encontrar un hiperplano más complejo que un simple hiperplano recto. En nuestro caso, estamos considerando a este un modelo no lineal, por tanto elegiremos un _kernel_ radial (RBF) por su capacidad de tratar con problemas de alta dimensionalidad al transformar los datos con NLT, que es muy idóneo para nuestro caso en la que tenemos una gran catidad de dimensiones.\n",
        "- `gamma`: en nuestro caso que utilizamos un _kernel_ RBF, `gamma` es el parámetro que controla el alcance del _kernel_ al calcular la distancia entre pares vecinos cuando se calculan las RBFs, nosotros optaremos por un valor de autoescala `gamma='scale'` que calcula $\\frac{1}{\\text{n_features} \\times \\sigma}$.\n",
        "- `tol`: es el criterio de parada, similar a caso de SGD en RL, usaremos el valor por defecto de $10^{-3}$\n",
        "- `class_weights`: podemos asignar pesos a las clases si estas están desbalanceadas; nuestro caso es el contrario, hay un buen balance entre las clases de nuestro conjunto de training, por lo que asignamos un valor de `None`.\n",
        "- `max_iter`: establece el máximo número de iteraciones del algoritmo. El algoritmo de SVC es un algoritmo muy lento de optimización, por lo que nos convendría, al menos en la selección de hiperparámetros, tener un límite. Por tanto, nosotros usaremos en _grid search_ un valor razonable de `20` iteraciones para elegir el mejor hiperparámetro $C$ y un valor de `-1` para el ajuste del modelo finalista.\n",
        "- `decision_function_shape`: establece la política de decisión sobre la clasificación de un ejemplo en problemas multiclase. En nuestro caso usaremos la política `One vs Rest` que hemos definido anteriormente.\n",
        "- `break_ties`: se utiliza para indicar si se quiere \"romper empates\" entre dos o más clases, en nuestro caso, lo establecemos a `True` para que pueda romper empates usando la función de decisión correspondiente al nivel de confianza en la pertenencia a una clase."
      ],
      "metadata": {
        "id": "fNH3Q9QzfWKi"
      }
    },
    {
      "cell_type": "code",
      "source": [
        "# Definimos los hiperparametros y sus valores así como los parámetros fijos a usar\n",
        "C_s = [0.1, 1.0, 10]\n",
        "max_iter = 20\n",
        "tol = 1e-3\n",
        "\n",
        "# Definimos las metricas que usaremos: Accuracy, Specificity, F1-Score, Metrica ponderada\n",
        "scoring = {\n",
        "    'accuracy': 'accuracy',\n",
        "    'specificity': make_scorer(specificity_score, average='macro'),\n",
        "    'f1': make_scorer(f1_score, average='macro'), # utilizo la opción average='macro' ya que estamos ante un problema\n",
        "                                                  # de clasificacion multiclase donde las clases estan aprox. equilibradas\n",
        "                                                  # por lo que se calcula un promedio global sobre las clases sin tener en cuenta\n",
        "                                                  # el desequilibrio\n",
        "    'rank_score': scorer\n",
        "}\n",
        "\n",
        "# Definimos un modelo base de SVC con valores de hiperparametros por defecto\n",
        "base_model = SVC(\n",
        "    kernel='rbf',\n",
        "    gamma='scale',\n",
        "    tol=tol,\n",
        "    class_weight=None,\n",
        "    max_iter=max_iter,\n",
        "    decision_function_shape='ovr',\n",
        "    break_ties=True\n",
        ")\n",
        "\n",
        "# ejecutamos grid search sobre el término C\n",
        "scores = single_grid_search_cv(model=base_model, X=X_train_proc, y=Y_train, hyper='C', values=C_s, folds=5, score=scoring)\n",
        "\n",
        "# obtengo las medias de los resultados\n",
        "scores_arr = scores.to_numpy()\n",
        "scores_arr_means = np.array([np.mean(x) for x in scores_arr[:, 1:].flatten()]).reshape(len(C_s),4)\n",
        "np.hstack((scores_arr[:, 0].reshape(-1,1), scores_arr_means))\n",
        "scores = pd.DataFrame(np.hstack((scores_arr[:, 0].reshape(-1,1), scores_arr_means)), columns=scores.columns, index=scores.index)\n",
        "\n",
        "scores"
      ],
      "metadata": {
        "colab": {
          "base_uri": "https://localhost:8080/",
          "height": 143
        },
        "id": "HliI6DhKlUuU",
        "outputId": "f4239c87-71f0-48f0-8304-4f3d0dc9edbb"
      },
      "execution_count": null,
      "outputs": [
        {
          "output_type": "execute_result",
          "data": {
            "text/plain": [
              "     C test_accuracy test_specificity   test_f1 test_rank_score\n",
              "0  0.1       0.60837         0.991297  0.604645         0.66525\n",
              "1  1.0      0.712081         0.993602  0.709465        0.753916\n",
              "2   10      0.741817         0.994263  0.737055        0.778969"
            ],
            "text/html": [
              "\n",
              "  <div id=\"df-49e15c79-0e3e-41e2-a93a-92568ea4d076\">\n",
              "    <div class=\"colab-df-container\">\n",
              "      <div>\n",
              "<style scoped>\n",
              "    .dataframe tbody tr th:only-of-type {\n",
              "        vertical-align: middle;\n",
              "    }\n",
              "\n",
              "    .dataframe tbody tr th {\n",
              "        vertical-align: top;\n",
              "    }\n",
              "\n",
              "    .dataframe thead th {\n",
              "        text-align: right;\n",
              "    }\n",
              "</style>\n",
              "<table border=\"1\" class=\"dataframe\">\n",
              "  <thead>\n",
              "    <tr style=\"text-align: right;\">\n",
              "      <th></th>\n",
              "      <th>C</th>\n",
              "      <th>test_accuracy</th>\n",
              "      <th>test_specificity</th>\n",
              "      <th>test_f1</th>\n",
              "      <th>test_rank_score</th>\n",
              "    </tr>\n",
              "  </thead>\n",
              "  <tbody>\n",
              "    <tr>\n",
              "      <th>0</th>\n",
              "      <td>0.1</td>\n",
              "      <td>0.60837</td>\n",
              "      <td>0.991297</td>\n",
              "      <td>0.604645</td>\n",
              "      <td>0.66525</td>\n",
              "    </tr>\n",
              "    <tr>\n",
              "      <th>1</th>\n",
              "      <td>1.0</td>\n",
              "      <td>0.712081</td>\n",
              "      <td>0.993602</td>\n",
              "      <td>0.709465</td>\n",
              "      <td>0.753916</td>\n",
              "    </tr>\n",
              "    <tr>\n",
              "      <th>2</th>\n",
              "      <td>10</td>\n",
              "      <td>0.741817</td>\n",
              "      <td>0.994263</td>\n",
              "      <td>0.737055</td>\n",
              "      <td>0.778969</td>\n",
              "    </tr>\n",
              "  </tbody>\n",
              "</table>\n",
              "</div>\n",
              "      <button class=\"colab-df-convert\" onclick=\"convertToInteractive('df-49e15c79-0e3e-41e2-a93a-92568ea4d076')\"\n",
              "              title=\"Convert this dataframe to an interactive table.\"\n",
              "              style=\"display:none;\">\n",
              "        \n",
              "  <svg xmlns=\"http://www.w3.org/2000/svg\" height=\"24px\"viewBox=\"0 0 24 24\"\n",
              "       width=\"24px\">\n",
              "    <path d=\"M0 0h24v24H0V0z\" fill=\"none\"/>\n",
              "    <path d=\"M18.56 5.44l.94 2.06.94-2.06 2.06-.94-2.06-.94-.94-2.06-.94 2.06-2.06.94zm-11 1L8.5 8.5l.94-2.06 2.06-.94-2.06-.94L8.5 2.5l-.94 2.06-2.06.94zm10 10l.94 2.06.94-2.06 2.06-.94-2.06-.94-.94-2.06-.94 2.06-2.06.94z\"/><path d=\"M17.41 7.96l-1.37-1.37c-.4-.4-.92-.59-1.43-.59-.52 0-1.04.2-1.43.59L10.3 9.45l-7.72 7.72c-.78.78-.78 2.05 0 2.83L4 21.41c.39.39.9.59 1.41.59.51 0 1.02-.2 1.41-.59l7.78-7.78 2.81-2.81c.8-.78.8-2.07 0-2.86zM5.41 20L4 18.59l7.72-7.72 1.47 1.35L5.41 20z\"/>\n",
              "  </svg>\n",
              "      </button>\n",
              "      \n",
              "  <style>\n",
              "    .colab-df-container {\n",
              "      display:flex;\n",
              "      flex-wrap:wrap;\n",
              "      gap: 12px;\n",
              "    }\n",
              "\n",
              "    .colab-df-convert {\n",
              "      background-color: #E8F0FE;\n",
              "      border: none;\n",
              "      border-radius: 50%;\n",
              "      cursor: pointer;\n",
              "      display: none;\n",
              "      fill: #1967D2;\n",
              "      height: 32px;\n",
              "      padding: 0 0 0 0;\n",
              "      width: 32px;\n",
              "    }\n",
              "\n",
              "    .colab-df-convert:hover {\n",
              "      background-color: #E2EBFA;\n",
              "      box-shadow: 0px 1px 2px rgba(60, 64, 67, 0.3), 0px 1px 3px 1px rgba(60, 64, 67, 0.15);\n",
              "      fill: #174EA6;\n",
              "    }\n",
              "\n",
              "    [theme=dark] .colab-df-convert {\n",
              "      background-color: #3B4455;\n",
              "      fill: #D2E3FC;\n",
              "    }\n",
              "\n",
              "    [theme=dark] .colab-df-convert:hover {\n",
              "      background-color: #434B5C;\n",
              "      box-shadow: 0px 1px 3px 1px rgba(0, 0, 0, 0.15);\n",
              "      filter: drop-shadow(0px 1px 2px rgba(0, 0, 0, 0.3));\n",
              "      fill: #FFFFFF;\n",
              "    }\n",
              "  </style>\n",
              "\n",
              "      <script>\n",
              "        const buttonEl =\n",
              "          document.querySelector('#df-49e15c79-0e3e-41e2-a93a-92568ea4d076 button.colab-df-convert');\n",
              "        buttonEl.style.display =\n",
              "          google.colab.kernel.accessAllowed ? 'block' : 'none';\n",
              "\n",
              "        async function convertToInteractive(key) {\n",
              "          const element = document.querySelector('#df-49e15c79-0e3e-41e2-a93a-92568ea4d076');\n",
              "          const dataTable =\n",
              "            await google.colab.kernel.invokeFunction('convertToInteractive',\n",
              "                                                     [key], {});\n",
              "          if (!dataTable) return;\n",
              "\n",
              "          const docLinkHtml = 'Like what you see? Visit the ' +\n",
              "            '<a target=\"_blank\" href=https://colab.research.google.com/notebooks/data_table.ipynb>data table notebook</a>'\n",
              "            + ' to learn more about interactive tables.';\n",
              "          element.innerHTML = '';\n",
              "          dataTable['output_type'] = 'display_data';\n",
              "          await google.colab.output.renderOutput(dataTable, element);\n",
              "          const docLink = document.createElement('div');\n",
              "          docLink.innerHTML = docLinkHtml;\n",
              "          element.appendChild(docLink);\n",
              "        }\n",
              "      </script>\n",
              "    </div>\n",
              "  </div>\n",
              "  "
            ]
          },
          "metadata": {},
          "execution_count": 96
        }
      ]
    },
    {
      "cell_type": "code",
      "source": [
        "# obtengo las medias de los resultados\n",
        "scores_arr = scores.to_numpy()\n",
        "scores_arr_means = np.array([np.mean(x) for x in scores_arr[:, 1:].flatten()]).reshape(len(C_s),4)\n",
        "np.hstack((scores_arr[:, 0].reshape(-1,1), scores_arr_means))\n",
        "scores = pd.DataFrame(np.hstack((scores_arr[:, 0].reshape(-1,1), scores_arr_means)), columns=scores.columns, index=scores.index)\n",
        "scores"
      ],
      "metadata": {
        "colab": {
          "base_uri": "https://localhost:8080/",
          "height": 143
        },
        "id": "rrPskQlIQSS6",
        "outputId": "8c768670-526d-41df-823c-2c4f625875d6"
      },
      "execution_count": null,
      "outputs": [
        {
          "output_type": "execute_result",
          "data": {
            "text/plain": [
              "     C test_accuracy test_specificity   test_f1 test_rank_score\n",
              "0  0.1       0.60837         0.991297  0.604645         0.66525\n",
              "1  1.0      0.712081         0.993602  0.709465        0.753916\n",
              "2   10      0.741817         0.994263  0.737055        0.778969"
            ],
            "text/html": [
              "\n",
              "  <div id=\"df-91471d7e-4a73-42e5-977a-43a0c40eeb15\">\n",
              "    <div class=\"colab-df-container\">\n",
              "      <div>\n",
              "<style scoped>\n",
              "    .dataframe tbody tr th:only-of-type {\n",
              "        vertical-align: middle;\n",
              "    }\n",
              "\n",
              "    .dataframe tbody tr th {\n",
              "        vertical-align: top;\n",
              "    }\n",
              "\n",
              "    .dataframe thead th {\n",
              "        text-align: right;\n",
              "    }\n",
              "</style>\n",
              "<table border=\"1\" class=\"dataframe\">\n",
              "  <thead>\n",
              "    <tr style=\"text-align: right;\">\n",
              "      <th></th>\n",
              "      <th>C</th>\n",
              "      <th>test_accuracy</th>\n",
              "      <th>test_specificity</th>\n",
              "      <th>test_f1</th>\n",
              "      <th>test_rank_score</th>\n",
              "    </tr>\n",
              "  </thead>\n",
              "  <tbody>\n",
              "    <tr>\n",
              "      <th>0</th>\n",
              "      <td>0.1</td>\n",
              "      <td>0.60837</td>\n",
              "      <td>0.991297</td>\n",
              "      <td>0.604645</td>\n",
              "      <td>0.66525</td>\n",
              "    </tr>\n",
              "    <tr>\n",
              "      <th>1</th>\n",
              "      <td>1.0</td>\n",
              "      <td>0.712081</td>\n",
              "      <td>0.993602</td>\n",
              "      <td>0.709465</td>\n",
              "      <td>0.753916</td>\n",
              "    </tr>\n",
              "    <tr>\n",
              "      <th>2</th>\n",
              "      <td>10</td>\n",
              "      <td>0.741817</td>\n",
              "      <td>0.994263</td>\n",
              "      <td>0.737055</td>\n",
              "      <td>0.778969</td>\n",
              "    </tr>\n",
              "  </tbody>\n",
              "</table>\n",
              "</div>\n",
              "      <button class=\"colab-df-convert\" onclick=\"convertToInteractive('df-91471d7e-4a73-42e5-977a-43a0c40eeb15')\"\n",
              "              title=\"Convert this dataframe to an interactive table.\"\n",
              "              style=\"display:none;\">\n",
              "        \n",
              "  <svg xmlns=\"http://www.w3.org/2000/svg\" height=\"24px\"viewBox=\"0 0 24 24\"\n",
              "       width=\"24px\">\n",
              "    <path d=\"M0 0h24v24H0V0z\" fill=\"none\"/>\n",
              "    <path d=\"M18.56 5.44l.94 2.06.94-2.06 2.06-.94-2.06-.94-.94-2.06-.94 2.06-2.06.94zm-11 1L8.5 8.5l.94-2.06 2.06-.94-2.06-.94L8.5 2.5l-.94 2.06-2.06.94zm10 10l.94 2.06.94-2.06 2.06-.94-2.06-.94-.94-2.06-.94 2.06-2.06.94z\"/><path d=\"M17.41 7.96l-1.37-1.37c-.4-.4-.92-.59-1.43-.59-.52 0-1.04.2-1.43.59L10.3 9.45l-7.72 7.72c-.78.78-.78 2.05 0 2.83L4 21.41c.39.39.9.59 1.41.59.51 0 1.02-.2 1.41-.59l7.78-7.78 2.81-2.81c.8-.78.8-2.07 0-2.86zM5.41 20L4 18.59l7.72-7.72 1.47 1.35L5.41 20z\"/>\n",
              "  </svg>\n",
              "      </button>\n",
              "      \n",
              "  <style>\n",
              "    .colab-df-container {\n",
              "      display:flex;\n",
              "      flex-wrap:wrap;\n",
              "      gap: 12px;\n",
              "    }\n",
              "\n",
              "    .colab-df-convert {\n",
              "      background-color: #E8F0FE;\n",
              "      border: none;\n",
              "      border-radius: 50%;\n",
              "      cursor: pointer;\n",
              "      display: none;\n",
              "      fill: #1967D2;\n",
              "      height: 32px;\n",
              "      padding: 0 0 0 0;\n",
              "      width: 32px;\n",
              "    }\n",
              "\n",
              "    .colab-df-convert:hover {\n",
              "      background-color: #E2EBFA;\n",
              "      box-shadow: 0px 1px 2px rgba(60, 64, 67, 0.3), 0px 1px 3px 1px rgba(60, 64, 67, 0.15);\n",
              "      fill: #174EA6;\n",
              "    }\n",
              "\n",
              "    [theme=dark] .colab-df-convert {\n",
              "      background-color: #3B4455;\n",
              "      fill: #D2E3FC;\n",
              "    }\n",
              "\n",
              "    [theme=dark] .colab-df-convert:hover {\n",
              "      background-color: #434B5C;\n",
              "      box-shadow: 0px 1px 3px 1px rgba(0, 0, 0, 0.15);\n",
              "      filter: drop-shadow(0px 1px 2px rgba(0, 0, 0, 0.3));\n",
              "      fill: #FFFFFF;\n",
              "    }\n",
              "  </style>\n",
              "\n",
              "      <script>\n",
              "        const buttonEl =\n",
              "          document.querySelector('#df-91471d7e-4a73-42e5-977a-43a0c40eeb15 button.colab-df-convert');\n",
              "        buttonEl.style.display =\n",
              "          google.colab.kernel.accessAllowed ? 'block' : 'none';\n",
              "\n",
              "        async function convertToInteractive(key) {\n",
              "          const element = document.querySelector('#df-91471d7e-4a73-42e5-977a-43a0c40eeb15');\n",
              "          const dataTable =\n",
              "            await google.colab.kernel.invokeFunction('convertToInteractive',\n",
              "                                                     [key], {});\n",
              "          if (!dataTable) return;\n",
              "\n",
              "          const docLinkHtml = 'Like what you see? Visit the ' +\n",
              "            '<a target=\"_blank\" href=https://colab.research.google.com/notebooks/data_table.ipynb>data table notebook</a>'\n",
              "            + ' to learn more about interactive tables.';\n",
              "          element.innerHTML = '';\n",
              "          dataTable['output_type'] = 'display_data';\n",
              "          await google.colab.output.renderOutput(dataTable, element);\n",
              "          const docLink = document.createElement('div');\n",
              "          docLink.innerHTML = docLinkHtml;\n",
              "          element.appendChild(docLink);\n",
              "        }\n",
              "      </script>\n",
              "    </div>\n",
              "  </div>\n",
              "  "
            ]
          },
          "metadata": {},
          "execution_count": 97
        }
      ]
    },
    {
      "cell_type": "markdown",
      "source": [
        "Como podemos observar, un parámetro $C$ mayor es evidentemente más preciso a la hora de clasificar en train. Esto se debe a que al imponer menos restricción (mayor $C$) estamos permitiendo un ajuste menos regularizado, lo que puede ser un signo de Overfitting, sin embargo, al estar usando el error de validación cruzada, tenemos una estimación relativamente buena de $E_{out}$ aunque tiene cierto grado de contaminación, por tanto, como además se indica que $C=10$ es mejor en todas las métricas que los otros parámetros, elegiremos este último como mejor parámetro teniéndo la garantía de que $E_{val} ≈ E_{out}$."
      ],
      "metadata": {
        "id": "N3dlEDclOX0d"
      }
    },
    {
      "cell_type": "markdown",
      "source": [
        "##### __Perceptrón Multicapa__\n",
        "\n",
        "Por último vamos a definir los elementos de MLP para el proceso de selección de modelos. En primer lugar, el algoritmo de aprendizaje que usaremos $\\mathcal A_{MLP}$ será el algoritmo de Backpropagation con _solver_ SGD, este algoritmo de Backpropagation lo hemos elegido por ser un algoritmo muy usado en el entrenamiento de redes neuronales y ser uno de los algoritmos de aprendizaje de redes neuronales más eficientes por su enfoque \"hacia atrás\" que ha marcado un antes y un después en el desarrollo de estos modelos universales. La hibridación con el algoritmo SGD se refiere a que hace uso de un algoritmo de optimización, en este caso SGD, para optimizar los pesos de la red, mientras que Backpropagation indica las neuronas que más contribuyen al error. Elegimos SGD por las propiedades que hemos explicado en RL que gana en velocidad y generalización.\n",
        "\n",
        "En cuanto al tipo de regularización, seguiremos optando por la regularización L2 por el mismo motivo de mantener en la medida de lo posible las _features_ que hemos consideradas todas igualmente importantes mientras se consigue una buena generalización. El término de regularización será el mismo que con RL, el parámetro $\\lambda$ que indica la intensidad de la regularización de manera proporcional. También utilizaremos una técnica de regularización muy usada en el entrenamiento de redes neuronales que es la técnica de _early stopping_, que consiste, en esencia, controlar el empeoramiento del $E_{out}$ estimado parando el algoritmo cuando se detecta el empeoramiento.\n",
        "\n",
        "En cuanto a la implementación usaremos la clase de `scikit-learn` `MLPClassifier` que implementa este algoritmo de Backpropagation con diversos algoritmos de optimización. Esta clase acepta los siguientes hiperparámetros:\n",
        "- `hidden_layer_size`: indica la dimensión de cada capa $d(l)$ de nuestra red, es decir, el número de neuronas por capas. Este parámetro será un hiperparámetro que tendremos que elegir mediante _grid search_ en la cual consideraremos el siguiente subconjunto de valores: $(50, 75, 100)$, donde cada valor indica la dimensión $d(l_i)$ de cada capa.\n",
        "- `activation`: indica la función de activación de cada neurona; como hemos comentado en la definición de la clase de funciones, usaremos la función de activación ReLU, por tanto especificamos el valor `'relu'` como función de activación.\n",
        "- `solver`: indica el algoritmo de optimización a usar. Como hemos dicho anteriormente, usaremos el algoritmo o _solver_ SGD para nuestro modelo, por tanto, indicamos el valor `'sgd'`.\n",
        "- `alpha`: indica el parámetro de regularización que hemos denominado $λ$, este lo consideraremos, al igual que RL, un hiperparámetro que elegiremos mediante _grid search_ y cuyo valores que consideraremos son iguales a los considerados en RL: $(0.01, 0.001, 0.0001)$.\n",
        "- `batch_size`: indica el tamaño de minibatch que usará el algoritmo de optimización. Esto puede resultar en una ganancia de velocidad al considerar batches de cierto tamaño en vez de ir un ejemplo a la vez. Nosotros usaremos la opción que viene por defecto `auto` que calcula el tamaño como `batch_size=min(200, num_examples)`, que eligirá $200$ ejemplos por minibatch, un tamaño muy razonable para nuestro problema que no penaliza en un ajuste pobre y que ayuda aportando un poco de velocidad al proceso.\n",
        "- `learning_rate_init`: indica el _learning rate_ inicial, usado en los algoritmos ADAM y SGD. En nuestro caso nosotros consideraremos este parámetro como un hiperparámetro cuyos valores serán los mismo que los que usamos con RL: $(0.1, 0.01, 0.001)$.\n",
        "- `max_iter`: indica el máximo de épocas o iteraciones en el algoritmo. Al igual que en RL, al ser un dataset de gran dimensionalidad, optaremos por un máximo de iteraciones de $20$ que dan un buen balance con el tiempo de ejecución.\n",
        "- `shuffle`: indica si se quiere aleatorizar el conjunto de datos por cada época, nosotros indicamos que sí para poder aprovechar las ventajas que provee la estocásticidad en el aprendizaje.\n",
        "- `random_state`: indica la semilla de números aleatorios. Nosotros no vemos conveniente usar o mantener un estado concreto de randomización, por tanto, especificamos que no.\n",
        "- `tol`: es el criterio de parada, similar a caso de SGD en RL, usaremos el valor por defecto de $10^{-3}$\n",
        "- `early_stopping`: indica si se quiere utilizar regularización mediante _early stopping_, como hemos dicho antes lo queremos utilizar, por tanto indicamos que sí.\n",
        "- `validation_fraction`: indica el tamaño del conjunto de validación para estimar $E_{out}$ en _early stopping_ para determinar el empeoramiento del error fuera de la muestra estimado. Como no queremos perjudicar el aprendizaje quitando muchos ejemplos de entrenamiento, indicaremos una fracción del $10\\%$ de los datos (fracción de `0.1`).\n",
        "- `n_iter_no_change`: indica el máximo número de épocas en la que hay mejora en la tolerancia, esto es un criterio de parada para determinar si se ha convergido finalmente a una solución. Vemos razonable usar un número de $5$ épocas debido al tamaño del dataset en cuestión, la probabilidad de mejora por eṕoca es mayor, por tanto, no es necesario en principio tener este valor muy alto, además de que ganamos en velocidad.\n",
        "\n",
        "Adicionalmente comentar que la arquitectura que usaremos para nuestra red será una red neuronal de $3$ capas contando la capa de salida, en la implementación mostramos solamente $2$ ya que `MLPClassifier` toma la dimensión de la capa de salida automáticamente del espacio de salida $\\mathcal Y$."
      ],
      "metadata": {
        "id": "Hsg6JTPGR2G0"
      }
    },
    {
      "cell_type": "code",
      "source": [
        "# Definimos los hiperparametros y sus valores así como los parámetros fijos a usar\n",
        "hidden_layers = [(50, 50), (75, 75), (100, 100)]\n",
        "lrs = [0.1, 0.01, 0.001]\n",
        "alphas = [0.01, 0.001, 0.0001]\n",
        "\n",
        "activation = 'relu'\n",
        "solver = 'sgd'\n",
        "batch_size = 'auto'\n",
        "max_iter = 20\n",
        "tol = 1e-3\n",
        "validation_fraction = 0.1\n",
        "n_iter_no_change = 5\n",
        "\n",
        "# Definimos las metricas que usaremos: Accuracy, Specificity, F1-Score, Metrica ponderada\n",
        "scoring = {\n",
        "    'accuracy': 'accuracy',\n",
        "    'specificity': make_scorer(specificity_score, average='macro'),\n",
        "    'f1': make_scorer(f1_score, average='macro'), # utilizo la opción average='macro' ya que estamos ante un problema\n",
        "                                                  # de clasificacion multiclase donde las clases estan aprox. equilibradas\n",
        "                                                  # por lo que se calcula un promedio global sobre las clases sin tener en cuenta\n",
        "                                                  # el desequilibrio\n",
        "    'rank_score': scorer\n",
        "}\n",
        "\n",
        "# Definimos un modelo base de MLP con valores de hiperparametros por defecto\n",
        "base_model = MLPClassifier(\n",
        "    activation=activation,\n",
        "    solver=solver,\n",
        "    batch_size=batch_size,\n",
        "    max_iter=max_iter,\n",
        "    tol=tol,\n",
        "    validation_fraction=validation_fraction,\n",
        "    n_iter_no_change=n_iter_no_change,\n",
        "    shuffle=True,\n",
        "    early_stopping=True,\n",
        "    random_state=None\n",
        ")\n",
        "\n",
        "# ejecutamos grid search sobre el learning rate inicial\n",
        "scores = single_grid_search_cv(model=base_model, X=X_train_proc, y=Y_train, hyper='learning_rate_init', values=lrs, folds=5, score=scoring)\n",
        "\n",
        "# obtengo las medias de los resultados\n",
        "scores_arr = scores.to_numpy()\n",
        "scores_arr_means = np.array([np.mean(x) for x in scores_arr[:, 1:].flatten()]).reshape(len(lrs),4)\n",
        "np.hstack((scores_arr[:, 0].reshape(-1,1), scores_arr_means))\n",
        "scores = pd.DataFrame(np.hstack((scores_arr[:, 0].reshape(-1,1), scores_arr_means)), columns=scores.columns, index=scores.index)\n",
        "\n",
        "scores"
      ],
      "metadata": {
        "id": "oibChub8i10I",
        "colab": {
          "base_uri": "https://localhost:8080/",
          "height": 143
        },
        "outputId": "18ceeeaf-142a-45be-901e-b7a5e431a7b9"
      },
      "execution_count": null,
      "outputs": [
        {
          "output_type": "execute_result",
          "data": {
            "text/plain": [
              "  learning_rate_init test_accuracy test_specificity   test_f1 test_rank_score\n",
              "0                0.1      0.803913         0.995643  0.803514        0.832613\n",
              "1               0.01      0.723478         0.993855  0.722028        0.763817\n",
              "2              0.001      0.519224         0.989317  0.499688        0.586807"
            ],
            "text/html": [
              "\n",
              "  <div id=\"df-763e77eb-7a0d-4b97-b41b-9809a99d9c43\">\n",
              "    <div class=\"colab-df-container\">\n",
              "      <div>\n",
              "<style scoped>\n",
              "    .dataframe tbody tr th:only-of-type {\n",
              "        vertical-align: middle;\n",
              "    }\n",
              "\n",
              "    .dataframe tbody tr th {\n",
              "        vertical-align: top;\n",
              "    }\n",
              "\n",
              "    .dataframe thead th {\n",
              "        text-align: right;\n",
              "    }\n",
              "</style>\n",
              "<table border=\"1\" class=\"dataframe\">\n",
              "  <thead>\n",
              "    <tr style=\"text-align: right;\">\n",
              "      <th></th>\n",
              "      <th>learning_rate_init</th>\n",
              "      <th>test_accuracy</th>\n",
              "      <th>test_specificity</th>\n",
              "      <th>test_f1</th>\n",
              "      <th>test_rank_score</th>\n",
              "    </tr>\n",
              "  </thead>\n",
              "  <tbody>\n",
              "    <tr>\n",
              "      <th>0</th>\n",
              "      <td>0.1</td>\n",
              "      <td>0.803913</td>\n",
              "      <td>0.995643</td>\n",
              "      <td>0.803514</td>\n",
              "      <td>0.832613</td>\n",
              "    </tr>\n",
              "    <tr>\n",
              "      <th>1</th>\n",
              "      <td>0.01</td>\n",
              "      <td>0.723478</td>\n",
              "      <td>0.993855</td>\n",
              "      <td>0.722028</td>\n",
              "      <td>0.763817</td>\n",
              "    </tr>\n",
              "    <tr>\n",
              "      <th>2</th>\n",
              "      <td>0.001</td>\n",
              "      <td>0.519224</td>\n",
              "      <td>0.989317</td>\n",
              "      <td>0.499688</td>\n",
              "      <td>0.586807</td>\n",
              "    </tr>\n",
              "  </tbody>\n",
              "</table>\n",
              "</div>\n",
              "      <button class=\"colab-df-convert\" onclick=\"convertToInteractive('df-763e77eb-7a0d-4b97-b41b-9809a99d9c43')\"\n",
              "              title=\"Convert this dataframe to an interactive table.\"\n",
              "              style=\"display:none;\">\n",
              "        \n",
              "  <svg xmlns=\"http://www.w3.org/2000/svg\" height=\"24px\"viewBox=\"0 0 24 24\"\n",
              "       width=\"24px\">\n",
              "    <path d=\"M0 0h24v24H0V0z\" fill=\"none\"/>\n",
              "    <path d=\"M18.56 5.44l.94 2.06.94-2.06 2.06-.94-2.06-.94-.94-2.06-.94 2.06-2.06.94zm-11 1L8.5 8.5l.94-2.06 2.06-.94-2.06-.94L8.5 2.5l-.94 2.06-2.06.94zm10 10l.94 2.06.94-2.06 2.06-.94-2.06-.94-.94-2.06-.94 2.06-2.06.94z\"/><path d=\"M17.41 7.96l-1.37-1.37c-.4-.4-.92-.59-1.43-.59-.52 0-1.04.2-1.43.59L10.3 9.45l-7.72 7.72c-.78.78-.78 2.05 0 2.83L4 21.41c.39.39.9.59 1.41.59.51 0 1.02-.2 1.41-.59l7.78-7.78 2.81-2.81c.8-.78.8-2.07 0-2.86zM5.41 20L4 18.59l7.72-7.72 1.47 1.35L5.41 20z\"/>\n",
              "  </svg>\n",
              "      </button>\n",
              "      \n",
              "  <style>\n",
              "    .colab-df-container {\n",
              "      display:flex;\n",
              "      flex-wrap:wrap;\n",
              "      gap: 12px;\n",
              "    }\n",
              "\n",
              "    .colab-df-convert {\n",
              "      background-color: #E8F0FE;\n",
              "      border: none;\n",
              "      border-radius: 50%;\n",
              "      cursor: pointer;\n",
              "      display: none;\n",
              "      fill: #1967D2;\n",
              "      height: 32px;\n",
              "      padding: 0 0 0 0;\n",
              "      width: 32px;\n",
              "    }\n",
              "\n",
              "    .colab-df-convert:hover {\n",
              "      background-color: #E2EBFA;\n",
              "      box-shadow: 0px 1px 2px rgba(60, 64, 67, 0.3), 0px 1px 3px 1px rgba(60, 64, 67, 0.15);\n",
              "      fill: #174EA6;\n",
              "    }\n",
              "\n",
              "    [theme=dark] .colab-df-convert {\n",
              "      background-color: #3B4455;\n",
              "      fill: #D2E3FC;\n",
              "    }\n",
              "\n",
              "    [theme=dark] .colab-df-convert:hover {\n",
              "      background-color: #434B5C;\n",
              "      box-shadow: 0px 1px 3px 1px rgba(0, 0, 0, 0.15);\n",
              "      filter: drop-shadow(0px 1px 2px rgba(0, 0, 0, 0.3));\n",
              "      fill: #FFFFFF;\n",
              "    }\n",
              "  </style>\n",
              "\n",
              "      <script>\n",
              "        const buttonEl =\n",
              "          document.querySelector('#df-763e77eb-7a0d-4b97-b41b-9809a99d9c43 button.colab-df-convert');\n",
              "        buttonEl.style.display =\n",
              "          google.colab.kernel.accessAllowed ? 'block' : 'none';\n",
              "\n",
              "        async function convertToInteractive(key) {\n",
              "          const element = document.querySelector('#df-763e77eb-7a0d-4b97-b41b-9809a99d9c43');\n",
              "          const dataTable =\n",
              "            await google.colab.kernel.invokeFunction('convertToInteractive',\n",
              "                                                     [key], {});\n",
              "          if (!dataTable) return;\n",
              "\n",
              "          const docLinkHtml = 'Like what you see? Visit the ' +\n",
              "            '<a target=\"_blank\" href=https://colab.research.google.com/notebooks/data_table.ipynb>data table notebook</a>'\n",
              "            + ' to learn more about interactive tables.';\n",
              "          element.innerHTML = '';\n",
              "          dataTable['output_type'] = 'display_data';\n",
              "          await google.colab.output.renderOutput(dataTable, element);\n",
              "          const docLink = document.createElement('div');\n",
              "          docLink.innerHTML = docLinkHtml;\n",
              "          element.appendChild(docLink);\n",
              "        }\n",
              "      </script>\n",
              "    </div>\n",
              "  </div>\n",
              "  "
            ]
          },
          "metadata": {},
          "execution_count": 98
        }
      ]
    },
    {
      "cell_type": "markdown",
      "source": [
        "Observamos con la evaluación del _learning rate_ inicial, que al igual que con RL, la mejor tasa de aprendizaje sigue siendo el $\\eta=0.01$, además con métricas muy similares a las de RL; esto tiene sentido ya que ambos modelos hacen uso de la misma función de perdida, la _Cross Entropy_, luego es lógico que obtienen el mismo espacio de búsqueda y por eso se asemejan tanto. Por tanto, al igual que con RL elegimos como tasa de aprendizaje $\\eta=0.01$ que es el que mayor _rank score_ obtiene."
      ],
      "metadata": {
        "id": "fnj7RBTBqWPf"
      }
    },
    {
      "cell_type": "code",
      "source": [
        "# ejecutamos grid search sobre el termino de regularización\n",
        "scores = single_grid_search_cv(model=base_model, X=X_train_proc, y=Y_train, hyper='alpha', values=alphas, folds=5, score=scoring)\n",
        "\n",
        "# obtengo las medias de los resultados\n",
        "scores_arr = scores.to_numpy()\n",
        "scores_arr_means = np.array([np.mean(x) for x in scores_arr[:, 1:].flatten()]).reshape(len(alphas),4)\n",
        "np.hstack((scores_arr[:, 0].reshape(-1,1), scores_arr_means))\n",
        "scores = pd.DataFrame(np.hstack((scores_arr[:, 0].reshape(-1,1), scores_arr_means)), columns=scores.columns, index=scores.index)\n",
        "\n",
        "scores"
      ],
      "metadata": {
        "id": "6APL3Kb2k-Gs",
        "colab": {
          "base_uri": "https://localhost:8080/",
          "height": 143
        },
        "outputId": "329b659a-e2a1-4c14-9820-60c78abe7b09"
      },
      "execution_count": null,
      "outputs": [
        {
          "output_type": "execute_result",
          "data": {
            "text/plain": [
              "    alpha test_accuracy test_specificity   test_f1 test_rank_score\n",
              "0    0.01      0.521739         0.989373   0.50305        0.589081\n",
              "1   0.001       0.52441         0.989432  0.504606        0.591193\n",
              "2  0.0001      0.509503         0.989101  0.488607        0.578308"
            ],
            "text/html": [
              "\n",
              "  <div id=\"df-723f16bc-fbed-4722-850d-4619b68cfa43\">\n",
              "    <div class=\"colab-df-container\">\n",
              "      <div>\n",
              "<style scoped>\n",
              "    .dataframe tbody tr th:only-of-type {\n",
              "        vertical-align: middle;\n",
              "    }\n",
              "\n",
              "    .dataframe tbody tr th {\n",
              "        vertical-align: top;\n",
              "    }\n",
              "\n",
              "    .dataframe thead th {\n",
              "        text-align: right;\n",
              "    }\n",
              "</style>\n",
              "<table border=\"1\" class=\"dataframe\">\n",
              "  <thead>\n",
              "    <tr style=\"text-align: right;\">\n",
              "      <th></th>\n",
              "      <th>alpha</th>\n",
              "      <th>test_accuracy</th>\n",
              "      <th>test_specificity</th>\n",
              "      <th>test_f1</th>\n",
              "      <th>test_rank_score</th>\n",
              "    </tr>\n",
              "  </thead>\n",
              "  <tbody>\n",
              "    <tr>\n",
              "      <th>0</th>\n",
              "      <td>0.01</td>\n",
              "      <td>0.521739</td>\n",
              "      <td>0.989373</td>\n",
              "      <td>0.50305</td>\n",
              "      <td>0.589081</td>\n",
              "    </tr>\n",
              "    <tr>\n",
              "      <th>1</th>\n",
              "      <td>0.001</td>\n",
              "      <td>0.52441</td>\n",
              "      <td>0.989432</td>\n",
              "      <td>0.504606</td>\n",
              "      <td>0.591193</td>\n",
              "    </tr>\n",
              "    <tr>\n",
              "      <th>2</th>\n",
              "      <td>0.0001</td>\n",
              "      <td>0.509503</td>\n",
              "      <td>0.989101</td>\n",
              "      <td>0.488607</td>\n",
              "      <td>0.578308</td>\n",
              "    </tr>\n",
              "  </tbody>\n",
              "</table>\n",
              "</div>\n",
              "      <button class=\"colab-df-convert\" onclick=\"convertToInteractive('df-723f16bc-fbed-4722-850d-4619b68cfa43')\"\n",
              "              title=\"Convert this dataframe to an interactive table.\"\n",
              "              style=\"display:none;\">\n",
              "        \n",
              "  <svg xmlns=\"http://www.w3.org/2000/svg\" height=\"24px\"viewBox=\"0 0 24 24\"\n",
              "       width=\"24px\">\n",
              "    <path d=\"M0 0h24v24H0V0z\" fill=\"none\"/>\n",
              "    <path d=\"M18.56 5.44l.94 2.06.94-2.06 2.06-.94-2.06-.94-.94-2.06-.94 2.06-2.06.94zm-11 1L8.5 8.5l.94-2.06 2.06-.94-2.06-.94L8.5 2.5l-.94 2.06-2.06.94zm10 10l.94 2.06.94-2.06 2.06-.94-2.06-.94-.94-2.06-.94 2.06-2.06.94z\"/><path d=\"M17.41 7.96l-1.37-1.37c-.4-.4-.92-.59-1.43-.59-.52 0-1.04.2-1.43.59L10.3 9.45l-7.72 7.72c-.78.78-.78 2.05 0 2.83L4 21.41c.39.39.9.59 1.41.59.51 0 1.02-.2 1.41-.59l7.78-7.78 2.81-2.81c.8-.78.8-2.07 0-2.86zM5.41 20L4 18.59l7.72-7.72 1.47 1.35L5.41 20z\"/>\n",
              "  </svg>\n",
              "      </button>\n",
              "      \n",
              "  <style>\n",
              "    .colab-df-container {\n",
              "      display:flex;\n",
              "      flex-wrap:wrap;\n",
              "      gap: 12px;\n",
              "    }\n",
              "\n",
              "    .colab-df-convert {\n",
              "      background-color: #E8F0FE;\n",
              "      border: none;\n",
              "      border-radius: 50%;\n",
              "      cursor: pointer;\n",
              "      display: none;\n",
              "      fill: #1967D2;\n",
              "      height: 32px;\n",
              "      padding: 0 0 0 0;\n",
              "      width: 32px;\n",
              "    }\n",
              "\n",
              "    .colab-df-convert:hover {\n",
              "      background-color: #E2EBFA;\n",
              "      box-shadow: 0px 1px 2px rgba(60, 64, 67, 0.3), 0px 1px 3px 1px rgba(60, 64, 67, 0.15);\n",
              "      fill: #174EA6;\n",
              "    }\n",
              "\n",
              "    [theme=dark] .colab-df-convert {\n",
              "      background-color: #3B4455;\n",
              "      fill: #D2E3FC;\n",
              "    }\n",
              "\n",
              "    [theme=dark] .colab-df-convert:hover {\n",
              "      background-color: #434B5C;\n",
              "      box-shadow: 0px 1px 3px 1px rgba(0, 0, 0, 0.15);\n",
              "      filter: drop-shadow(0px 1px 2px rgba(0, 0, 0, 0.3));\n",
              "      fill: #FFFFFF;\n",
              "    }\n",
              "  </style>\n",
              "\n",
              "      <script>\n",
              "        const buttonEl =\n",
              "          document.querySelector('#df-723f16bc-fbed-4722-850d-4619b68cfa43 button.colab-df-convert');\n",
              "        buttonEl.style.display =\n",
              "          google.colab.kernel.accessAllowed ? 'block' : 'none';\n",
              "\n",
              "        async function convertToInteractive(key) {\n",
              "          const element = document.querySelector('#df-723f16bc-fbed-4722-850d-4619b68cfa43');\n",
              "          const dataTable =\n",
              "            await google.colab.kernel.invokeFunction('convertToInteractive',\n",
              "                                                     [key], {});\n",
              "          if (!dataTable) return;\n",
              "\n",
              "          const docLinkHtml = 'Like what you see? Visit the ' +\n",
              "            '<a target=\"_blank\" href=https://colab.research.google.com/notebooks/data_table.ipynb>data table notebook</a>'\n",
              "            + ' to learn more about interactive tables.';\n",
              "          element.innerHTML = '';\n",
              "          dataTable['output_type'] = 'display_data';\n",
              "          await google.colab.output.renderOutput(dataTable, element);\n",
              "          const docLink = document.createElement('div');\n",
              "          docLink.innerHTML = docLinkHtml;\n",
              "          element.appendChild(docLink);\n",
              "        }\n",
              "      </script>\n",
              "    </div>\n",
              "  </div>\n",
              "  "
            ]
          },
          "metadata": {},
          "execution_count": 99
        }
      ]
    },
    {
      "cell_type": "markdown",
      "source": [
        "En cuanto al término de regularización, vemos que los valores son muy similares entre sí, veamos que ocurre si usamos valores mas extremos en cambio para determinar si es que el modelo es insensible a estos cambios o tenemos que aumentar el espacio de búsqueda."
      ],
      "metadata": {
        "id": "Ne5XsKivrdIp"
      }
    },
    {
      "cell_type": "code",
      "source": [
        "# ejecutamos grid search sobre el termino de regularización\n",
        "alphas = [0.00001, 0.1, 1]\n",
        "scores = single_grid_search_cv(model=base_model, X=X_train_proc, y=Y_train, hyper='alpha', values=alphas, folds=5, score=scoring)\n",
        "\n",
        "# obtengo las medias de los resultados\n",
        "scores_arr = scores.to_numpy()\n",
        "scores_arr_means = np.array([np.mean(x) for x in scores_arr[:, 1:].flatten()]).reshape(len(alphas),4)\n",
        "np.hstack((scores_arr[:, 0].reshape(-1,1), scores_arr_means))\n",
        "scores = pd.DataFrame(np.hstack((scores_arr[:, 0].reshape(-1,1), scores_arr_means)), columns=scores.columns, index=scores.index)\n",
        "\n",
        "scores"
      ],
      "metadata": {
        "id": "1jKHwya5tmvJ"
      },
      "execution_count": null,
      "outputs": []
    },
    {
      "cell_type": "markdown",
      "source": [
        "Vemos que cuando empezamos a incrementar los valores de $\\lambda$ tenemos peor _rank score_, mientras que pasa al revés cuando decrementamos. Esto se debe a que cuando aumentamos el $\\lambda$ estamos restringiendo más los valores de los pesos y por tanto regulariza más, mientras que si decrementamos $\\lambda$ estamos dando mucha más libertad a estos valores. Sin embargo, es interesante notar que si decrementamos el valor de $\\lambda$ en un factor de $10$, tenemos resultados muy similares a cuando no decrementabamos, en este caso $Score(\\lambda = 0.0001) \\approx Score(\\lambda=0.00001)$, esto puede ser un signo de convergencia. En este caso optamos por el valor más alto de regularización que es $\\lambda = 0.0001$."
      ],
      "metadata": {
        "id": "XgYIX-bNv9Z4"
      }
    },
    {
      "cell_type": "code",
      "source": [
        "# ejecutamos grid search sobre las dimensiones de las capas\n",
        "scores = single_grid_search_cv(model=base_model, X=X_train_proc, y=Y_train, hyper='hidden_layer_sizes', values=hidden_layers, folds=5, score=scoring)\n",
        "\n",
        "# obtengo las medias de los resultados\n",
        "scores_arr = scores.to_numpy()\n",
        "scores_arr_means = np.array([np.mean(x) for x in scores_arr[:, 1:].flatten()]).reshape(len(hidden_layers),4)\n",
        "np.hstack((scores_arr[:, 0].reshape(-1,1), scores_arr_means))\n",
        "scores = pd.DataFrame(np.hstack((scores_arr[:, 0].reshape(-1,1), scores_arr_means)), columns=scores.columns, index=scores.index)\n",
        "\n",
        "scores"
      ],
      "metadata": {
        "id": "itiDaIXMlQ2O"
      },
      "execution_count": null,
      "outputs": []
    },
    {
      "cell_type": "markdown",
      "source": [
        "Por último, la evaluación de las dimensiones de cada capa de la red que hemos considerado, podemos ver que cuando aumentamos la dimensión de las capas se obtiene una mejora con respecto a una dimensión mucho más simple; esto se debe a que, al agregar más neuronas por capa, la red es capaz de capturar propiedades no lineales más complejas. Por tanto, optamos por elegir una dimensión por capa oculta de $d(l_i) = 100,\\ \\ i = \\{1, 2\\}$."
      ],
      "metadata": {
        "id": "WjpPWTz8wQDO"
      }
    },
    {
      "cell_type": "markdown",
      "source": [
        "#### Obtención del mejor modelo $g$\n",
        "\n",
        "Teniéndo los modelos finalistas resultantes de elegir los mejores hiperparámetros elegidos mediante _grid search_, elegiremos el mejor modelo evaluando cada finalista y obteniendo sus _rank scores_."
      ],
      "metadata": {
        "id": "qHudWFO07Z2D"
      }
    },
    {
      "cell_type": "code",
      "source": [
        "tol = 1e-3\n",
        "# Definimos los finalistas\n",
        "best_rl = SGDClassifier(\n",
        "    eta0=0.01,\n",
        "    alpha=0.0001,\n",
        "    loss='log_loss',\n",
        "    penalty='l2',\n",
        "    max_iter=20,\n",
        "    shuffle=True,\n",
        "    learning_rate='constant', # Determinar que el learning rate es constante\n",
        "    tol=tol,\n",
        "    epsilon=0.1,\n",
        "    random_state=33\n",
        ")\n",
        "best_svm = SVC(\n",
        "    C=10,\n",
        "    kernel='rbf',\n",
        "    gamma='scale',\n",
        "    tol=tol,\n",
        "    class_weight=None,\n",
        "    max_iter=20,\n",
        "    decision_function_shape='ovr',\n",
        "    break_ties=True\n",
        ")\n",
        "best_mlp = MLPClassifier(\n",
        "    hidden_layer_sizes=(100,100),\n",
        "    learning_rate_init=0.1,\n",
        "    alpha=0.0001,\n",
        "    activation=activation,\n",
        "    solver=solver,\n",
        "    batch_size=batch_size,\n",
        "    max_iter=50,\n",
        "    tol=tol,\n",
        "    validation_fraction=validation_fraction,\n",
        "    n_iter_no_change=n_iter_no_change,\n",
        "    shuffle=True,\n",
        "    early_stopping=True,\n",
        "    random_state=33\n",
        ")"
      ],
      "metadata": {
        "id": "F-5afb4l92g3"
      },
      "execution_count": null,
      "outputs": []
    },
    {
      "cell_type": "code",
      "source": [
        "# Evaluamos los modelos y obtenemos sus métricas\n",
        "scores_rl = cross_val(best_rl, X_train_proc, Y_train, 5, scoring)\n",
        "scores_svm = cross_val(best_svm, X_train_proc, Y_train, 5, scoring)\n",
        "scores_mlp = cross_val(best_mlp, X_train_proc, Y_train, 5, scoring)\n",
        "\n",
        "print('RL Rank Score:', scores_rl['test_rank_score'])\n",
        "print('SVM Rank Score:', scores_svm['test_rank_score'])\n",
        "print('MLP Rank Score:', scores_mlp['test_rank_score'])\n"
      ],
      "metadata": {
        "id": "Itq8GSkpBklh"
      },
      "execution_count": null,
      "outputs": []
    },
    {
      "cell_type": "code",
      "source": [
        "print('RL Rank Score:', scores_rl['test_rank_score'].mean())\n",
        "print('SVM Rank Score:', scores_svm['test_rank_score'].mean())\n",
        "print('MLP Rank Score:', scores_mlp['test_rank_score'].mean())"
      ],
      "metadata": {
        "id": "WRPTSXEYFP9Z"
      },
      "execution_count": null,
      "outputs": []
    },
    {
      "cell_type": "markdown",
      "source": [
        "Como podemos observar, el modelo que ha obtenido mejor _rank score_ ha sido el modelo del Perceptrón Multicapa con un puntaje medio de $0.84$, por tanto, según nuestro criterio de selección nuestro mejor modelo $g^*$ es el de MLP para nuestro problema de clasificación de dígitos.\n",
        "\n",
        "A continuación, realizamos un ajuste final sobre todo el conjunto de training para obtener el ajuste de la mejor hipótesis $g$ al problema."
      ],
      "metadata": {
        "id": "v84TVmsdEIrY"
      }
    },
    {
      "cell_type": "code",
      "source": [
        "best_model = best_mlp\n",
        "best_model.fit(X_train_proc, Y_train)"
      ],
      "metadata": {
        "id": "hNqLLRsRGLNO"
      },
      "execution_count": null,
      "outputs": []
    },
    {
      "cell_type": "markdown",
      "source": [
        "#Evaluación del Modelo Final"
      ],
      "metadata": {
        "id": "xCM9J3v7ya18"
      }
    },
    {
      "cell_type": "markdown",
      "source": [
        "A continuación pasaremos a evaluar nuestro ajuste $g$ con el conjunto que hemos reservado de test. Procederemos primero a transformar el conjunto de test con las mismas transformaciones que hicimos para el de train."
      ],
      "metadata": {
        "id": "MkiMEbRqGRe3"
      }
    },
    {
      "cell_type": "code",
      "source": [
        "# Normalizamos el conjunto de train\n",
        "X_test_proc = min_max_scaling(X_test, MIN_VALUES_TRAIN, MAX_VALUES_TRAIN)\n",
        "\n",
        "# Obtenemos el descriptor de caracteristicas HOG como nuestro nuevo conjunto de datos\n",
        "X_test_proc = extract_features(X_test_proc)\n",
        "\n",
        "X_test_proc.shape"
      ],
      "metadata": {
        "id": "PtRdP5_kGa1c"
      },
      "execution_count": null,
      "outputs": []
    },
    {
      "cell_type": "markdown",
      "source": [
        "Ahora sí procedemos a evaluar nuestro modelo con el conjunto de test preprocesado y obtenemos sus métricas así como el error $E_{test}$ que estima $E_{out}$."
      ],
      "metadata": {
        "id": "lIy64Er1InDW"
      }
    },
    {
      "cell_type": "code",
      "source": [
        "y_pred = best_model.predict(X_test_proc)\n",
        "\n",
        "# Creamos los scorers para adaptarlos a multiclase\n",
        "spec_scorer = make_scorer(specificity_score, average='macro')\n",
        "\n",
        "acc = accuracy_score(y_true=Y_test, y_pred=y_pred)\n",
        "spec = specificity_score(y_true=Y_test, y_pred=y_pred)\n",
        "f1 = f1_score(y_true=Y_test, y_pred=y_pred, average='macro')\n",
        "\n",
        "y_pred_proba = best_model.predict_proba(X_test_proc)\n",
        "loss = log_loss(Y_test, y_pred_proba)\n",
        "\n",
        "print('Acc_test:', acc)\n",
        "print('Spec_test:', spec)\n",
        "print('F1_test:', f1)\n",
        "print('Error de test (Función de Pérdida Loss_test):', loss)\n"
      ],
      "metadata": {
        "id": "CYWP26-RIhzc"
      },
      "execution_count": null,
      "outputs": []
    },
    {
      "cell_type": "markdown",
      "source": [
        "Como podemos observar, la solución final ha obtenido un buen error en test y buenos resultados en las metricas por lo que podemos afirmar que hemos obtenido un buen clasificador y unos buenos resultados (sin provocar overfitting por parte del modelo no lineal)"
      ],
      "metadata": {
        "id": "aiAo_zDZWq8R"
      }
    },
    {
      "cell_type": "markdown",
      "source": [
        "##Curvas de aprendizaje"
      ],
      "metadata": {
        "id": "hl9YkDqcNkRY"
      }
    },
    {
      "cell_type": "markdown",
      "source": [
        "Vamos a crear las curvas de aprendizaje del modelo elegido separando de nuevo el conjunto de entrenamiento en un nuevo conjunto de validación del 20% y otro conjunto de entrenamiento del 80%, de forma parecida a como se hizo con el conjunto total de datos. Después voy a entrenar el modelo con un conjunto de datos inicialmente pequeño y obtengo el error de validación junto con el de entrenamiento, y cada iteración repito lo mismo pero con un subconjunto de datos mayor obtenido del conjunto de entrenamiento hasta utilizar el conjunto de datos total. Finalmente se crean las curvas de los errores $E_{in}$ de entrenamiento y $E_{out}$ estimado a partir del error obtenido del conjunto de validación."
      ],
      "metadata": {
        "id": "qOqnF4BBNkRZ"
      }
    },
    {
      "cell_type": "markdown",
      "source": [
        "Debido al alto coste computacional de entrenar varias veces el modelo con conjuntos de entrenamiento distintos, hemos utilizado un número bajo de entrenamientos y particiones del conjunto de entrenamiento para que no tarde en exceso en caclular las curvas de aprendizaje, entonces las curvas tienen poca desnidad de puntos, pero si se aumenta el numero de particiones (la variable `numiters` en el código), se consiguen curvas de aprendizaje con más densidad de puntos."
      ],
      "metadata": {
        "id": "zM0bcWGG_4dw"
      }
    },
    {
      "cell_type": "code",
      "source": [
        "np.random.seed(0)\n",
        "trainPortion = 0.8 #porcentaje de train, el porcentaje de validacion será la resta de 1 menos el porcentaje de train\n",
        "indexesData = np.arange(len(Y_train)) #Indices del conjunto de muestras\n",
        "np.random.shuffle(indexesData) #Desordenar indices de las muestras\n",
        "numberTrain = round(len(indexesData)*trainPortion) #numero de muestras para train\n",
        "trainIndexes = indexesData[:numberTrain]\n",
        "valIndexes = indexesData[numberTrain:]\n",
        "\n",
        "E_in = []\n",
        "E_out = []\n",
        "ejeX = []\n",
        "numiters = 10\n",
        "for i in range(1,numiters):\n",
        "  ejeX.append(i*len(trainIndexes)//numiters)\n",
        "  # Entrenar el modelo con los datos de entrenamiento\n",
        "  best_model.fit(X_train_proc[trainIndexes[:i*len(trainIndexes)//numiters]], Y_train[trainIndexes[:i*len(trainIndexes)//numiters]])\n",
        "  # Obtener error en entrenamiento\n",
        "  y_pred_proba = best_model.predict_proba(X_train_proc[trainIndexes[:i*len(trainIndexes)//numiters]])\n",
        "  E_in.append(log_loss(Y_train[trainIndexes[:i*len(trainIndexes)//numiters]], y_pred_proba))\n",
        "  # Obtener error en validación\n",
        "  y_pred_proba = best_model.predict_proba(X_train_proc[valIndexes])\n",
        "  E_out.append(log_loss(Y_train[valIndexes], y_pred_proba))\n",
        "\n",
        "# Mostrar plot con ambas curvas\n",
        "plt.figure()\n",
        "plt.title(\"Curvas de Aprendizaje\")\n",
        "plt.xlabel(\"Tamaño del conjunto de entrenamiento\")\n",
        "plt.ylabel(\"Error (función de pérdida de MLP)\")\n",
        "plt.plot(ejeX, E_out, 'r',label=r'$E_{out}$')\n",
        "plt.plot(ejeX, E_in, 'b',label=r'$E_{in}$')\n",
        "\n",
        "plt.legend(fontsize = 12) # poner el tamaño de la leyenda como en el resultado dado\n",
        "plt.grid(visible=True,linewidth=0.2) # poner la cuadricula con el grosor del resultado dado\n",
        "\n",
        "plt.show()"
      ],
      "metadata": {
        "id": "wrkCk-MINkRZ"
      },
      "execution_count": null,
      "outputs": []
    },
    {
      "cell_type": "markdown",
      "source": [
        "Podemos observar en el gráfico de las curvas de aprendizaje que el modelo se comporta de forma correcta ajustandose al problema y obteniendo una buena generalización a medida que aumenta el tamaño del conjunto de muestras. Cuantos más datos se usan para entrenar el modelo, más generalización se consigue (al tener más información del problema y de la función objetivo) y por tanto el error $E_{out}$ se acerca cada vez más al error $E_{in}$. El modelo es capaz de ajustar mejor los datos cuantos menos muestras haya, ya que al haber menos datos, el modelo tiene que predecir menos muestras y entonces puede ajustarse mejor a una cantidad menor de datos, por lo tanto el error $E_{in}$ aumenta con el tamaño del conjunto de entrenamiento. En la curva de aprendizaje que obtenemos se ve esto al principio como el error $E_{in}$ aumenta al umentar el tamaño del conjunto pero despues sigue estable. Por otro lado, cuantos más muestras se tienen, más información se tiene del problema y por tanto se puede obtener una mayor generalización de la función objetivo obteniendo un error $E_{out}$ menor a medida que aumenta el tamaño del conjunto de muestras. Es por esto que los errores $E_{in}$ y $E_{out}$ tienden a acercarse y converger a medida que aumenta el tamaño del conjunto de entrenamiento.\n",
        "A partir de estos resultados podemos establecer que este modelo ha conseguido ajustarse bien al problema consiguiendo generalizar la función objteivo, como osbervarmos en la disminución del error $E_{out}$ a medida que aumenta el tamaño del conjunto de entrenamiento, ya que cuanta más información se le ofrece al modelo para entrenar, mejoes resultados y error $E_{out}$ obtiene y por tanto más aprende."
      ],
      "metadata": {
        "id": "AxvI8x1fFuXl"
      }
    },
    {
      "cell_type": "markdown",
      "source": [
        "##Conclusión"
      ],
      "metadata": {
        "id": "6cWMXcQZJ60Y"
      }
    },
    {
      "cell_type": "markdown",
      "source": [
        "En esta práctica hemos utilizado diversos modelos para tratar de ajustar un problema con un conjunto de datos asociado para obtener un clasificador final óptimo comparando entre los modelos utilizados. En concreto hemos utilizado un modelo lineal y dos modelos no lineales. El modelo lineal escogido ha sido Regresión Logística empleado mediante SGD, y los dos modelos no lineales escogidos han sido Perceptrón Multicapa empleando SGD para su entrenameinto y SVM Soft, como se ha explicado al principio. Tras evaluar los modelos junto con diversos valores de hiperparámetros de cada uno, hemos comparado sus resultados utilizando la técnica de Cross Validation con un Fold de 5 y hemos elegido el mejor modelo basándonos en los resultados de las métricas que hemos elegido para comparar los modelos. Finalmente hemos evaluado el modelo entrenado con todo el conjunto de entrenamiento a la hora de predecir las muestras del conjunto de test y hemos analizado los resultados obtenidos.\n",
        "\n",
        " Por el proceso que hemos seguido para obtener el modelo final, la solución final obtenida es el mejor resultado posible que hemos obtenido para la muestra dada, ya que en primer lugar hemos elegido los modelos específicos mejores las propiedades del problema, hemos elegido las métricas también acorde con las características de la base de datos de la que disponíamos junto con las funciones de pérdida para los algoritmos de aprendizaje, hemos utilizado técnicas como Cross Validation para obtener una comparación precisa entre los modelos y elegir los hiperparámetros adecuados y finalmente hemos comprobado que la solución final se ajusta correctamente al problema, obteniendo el error $E_{out}$ y los resultados de las métricas sobre el conjunto de test que nos indican que hemos obtenido una buena solución, y obteniendo las curvas de aprendizaje que nos indican la buena generalización que ha obtenido el modelo para este problema con este conjunto de muestras."
      ],
      "metadata": {
        "id": "NQ0A38_5KDXn"
      }
    }
  ]
}